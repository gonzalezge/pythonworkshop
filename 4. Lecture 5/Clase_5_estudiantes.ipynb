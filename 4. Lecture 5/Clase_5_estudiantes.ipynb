{
 "cells": [
  {
   "cell_type": "markdown",
   "metadata": {},
   "source": [
    "<img src=\"https://raw.githubusercontent.com/paular143/images_notebooks/master/logo-sin-nombre.png\" alt=\"Universidad de Los Andes\" style=\"width: 90px;\" align=\"left\" frameborder=\"300\"/>\n",
    "\n",
    "**UNIVERSIDAD DE LOS ANDES** <br>\n",
    "**FACULTAD DE ECONOMÍA** <br>\n",
    "**Taller de Python** <br>\n",
    "**PROFESOR:** Germán González <br><br>"
   ]
  },
  {
   "cell_type": "markdown",
   "metadata": {},
   "source": [
    "# Clase 6: Funciones\n",
    "En esta clase se cubren los siguientes temas:\n",
    "\n",
    "- Zip\n",
    "- Map \n",
    "- Funciones anónimas `lambda`"
   ]
  },
  {
   "cell_type": "markdown",
   "metadata": {},
   "source": [
    "## Zip\n",
    "\n",
    "`Zip` permite crear un objeto iterable a partir de combinaciones de otros objetos iterables. Funciona combinando los elementos de varios iterables en una tupla y retorna una iterable (zip) de estas tuplas. La sintaxis es:\n",
    "\n",
    "```python\n",
    "zip(*iterables)\n",
    "```\n",
    "\n",
    "Algunas cosas para tener en cuenta:\n",
    "\n",
    "- Si no se pasa ningun iterable como parámetro, retorna un iterable vacío. \n",
    "- Si se pasa solo un iterable como parámetro, devulve iterables unitarios. \n",
    "- Solo considera el iterable con menos elementos para realizar las combinaciones. \n",
    "\n",
    "Veamos algunos ejemplos:"
   ]
  },
  {
   "cell_type": "markdown",
   "metadata": {},
   "source": [
    "Construya un iterable vacio"
   ]
  },
  {
   "cell_type": "markdown",
   "metadata": {},
   "source": [
    "Considere las combinaciones de las listas a continuacion y devuelva un iterable sobre esas combinaciones.\n",
    "```python\n",
    "lista_0=['Juan','Pedro','Julian','Alejandra']\n",
    "lista_1=[1,2,3,4]\n",
    "```"
   ]
  },
  {
   "cell_type": "code",
   "execution_count": null,
   "metadata": {},
   "outputs": [],
   "source": []
  },
  {
   "cell_type": "markdown",
   "metadata": {},
   "source": [
    "Para obtener los objetos de los cuales se generó el iterable *zippeado* tenemos que aplicar la función `zip` agregandole un `*` antes del parámetro."
   ]
  },
  {
   "cell_type": "code",
   "execution_count": 8,
   "metadata": {},
   "outputs": [
    {
     "name": "stdout",
     "output_type": "stream",
     "text": [
      "('Juan', 'Pedro', 'Julian', 'Alejandra')\n",
      "(1, 2, 3, 4)\n"
     ]
    }
   ],
   "source": []
  },
  {
   "cell_type": "markdown",
   "metadata": {},
   "source": [
    "Ahora consideremos objetos de diferentes tamaños\n",
    "```python\n",
    "lista_0=['Juan','Pedro','Julian','Alejandra']\n",
    "lista_1=[[1,2,3],[4,5,6],[7,8,9]]\n",
    "```"
   ]
  },
  {
   "cell_type": "code",
   "execution_count": 5,
   "metadata": {},
   "outputs": [
    {
     "data": {
      "text/plain": [
       "[('Juan', [1, 2, 3]), ('Pedro', [4, 5, 6]), ('Julian', [7, 8, 9])]"
      ]
     },
     "execution_count": 5,
     "metadata": {},
     "output_type": "execute_result"
    }
   ],
   "source": []
  },
  {
   "cell_type": "markdown",
   "metadata": {},
   "source": [
    "## Map\n",
    "La función `map` aplica una función dada a cada elemento de un iterable y retorna una objeto map con los resultados. El objeto map puede ser pasado a funciones como `list` para convertirlo en una lista. Para usar `map`necesitamos:\n",
    "1. Una función\n",
    "2. Un iterable"
   ]
  },
  {
   "cell_type": "markdown",
   "metadata": {},
   "source": [
    "Considere la situación, en la que usted tiene un diccionario con las notas de un curso y usted quiere sacar el promedio de cada alumno. Anteriormente lo habíamos hecho sacando *a mano* o con un *loop* el promedio de cada alumno, sin embargo, ¿qué pasaría si tenemos muchos alumnos (y no queremos usar un loop)?\n",
    "1. Definamos una función que saque el promedio para una lista \n",
    "2. Usemos map sobre el diccionario.\n",
    "\n",
    "```python\n",
    "notas = {'Germán': [4.5, 3.7, 3.4, 5],'Alicia': [3.5, 3.1, 4.2, 3.9],'Pepito': [2.6, 3.0, 3.9, 4.1]}\n",
    "```"
   ]
  },
  {
   "cell_type": "code",
   "execution_count": 12,
   "metadata": {},
   "outputs": [],
   "source": []
  },
  {
   "cell_type": "markdown",
   "metadata": {},
   "source": [
    "Note que la salida es un objeto tipo 'map', para ver cada elemento se puede convertir en una lista o en un diccionario. Para convertirlo en lista basta con usar la función 'list'. Para convertirlo es un diccionario con las mismas llaves se puede usar una combinación entre 'zip' y 'dict'"
   ]
  },
  {
   "cell_type": "code",
   "execution_count": 13,
   "metadata": {},
   "outputs": [
    {
     "data": {
      "text/plain": [
       "[4.15, 3.65, 3.4]"
      ]
     },
     "execution_count": 13,
     "metadata": {},
     "output_type": "execute_result"
    }
   ],
   "source": []
  },
  {
   "cell_type": "code",
   "execution_count": 14,
   "metadata": {},
   "outputs": [
    {
     "name": "stdout",
     "output_type": "stream",
     "text": [
      "{'Germán': 4.15, 'Alicia': 3.65, 'Pepito': 3.4}\n"
     ]
    }
   ],
   "source": []
  },
  {
   "cell_type": "markdown",
   "metadata": {},
   "source": [
    "## Funciones anónimas `lambda`\n",
    "Son funciones que se definen sin un nombre, en cambio se definen \n",
    "```python\n",
    "lambda argumentos: expresion\n",
    "```\n",
    "Tambien son llamadas funciones *lambda*. Estas funciones pueden asignarse a una variable del ambiente o usarlas temporalmente dentro de otra función (que requiera una función como argumento). Típicamente son funciones que se pueden escribir en una sola línea. "
   ]
  },
  {
   "cell_type": "markdown",
   "metadata": {},
   "source": [
    "Cree una funcion anónima que calcule el cuadrado "
   ]
  },
  {
   "cell_type": "code",
   "execution_count": 15,
   "metadata": {},
   "outputs": [
    {
     "data": {
      "text/plain": [
       "25"
      ]
     },
     "execution_count": 15,
     "metadata": {},
     "output_type": "execute_result"
    }
   ],
   "source": []
  },
  {
   "cell_type": "markdown",
   "metadata": {},
   "source": [
    "Cree una función anónima que devuelva el número impar más cercano (hacia arriba) al que se le pasa por parámetro."
   ]
  },
  {
   "cell_type": "code",
   "execution_count": 16,
   "metadata": {},
   "outputs": [
    {
     "data": {
      "text/plain": [
       "4"
      ]
     },
     "execution_count": 16,
     "metadata": {},
     "output_type": "execute_result"
    }
   ],
   "source": []
  },
  {
   "cell_type": "markdown",
   "metadata": {},
   "source": [
    "Las funciones *lambda* también pueden recibir varios argumentos. \\\\ Cree una función anónima que calcule la suma entre dos numeros"
   ]
  },
  {
   "cell_type": "code",
   "execution_count": 17,
   "metadata": {},
   "outputs": [
    {
     "data": {
      "text/plain": [
       "6"
      ]
     },
     "execution_count": 17,
     "metadata": {},
     "output_type": "execute_result"
    }
   ],
   "source": []
  },
  {
   "cell_type": "markdown",
   "metadata": {},
   "source": [
    "Típicamente el uso de una función anónima es para aquellas funciones *sencillas* que no necesitamos almacenar. ¿Un buen candidato de dónde usarlas? En `map`. \n",
    "\n",
    "Vuelva a considerar la situación anterior. Ahora, aplique `map` sin necesidad de definir la función que promedio listas."
   ]
  },
  {
   "cell_type": "code",
   "execution_count": 18,
   "metadata": {},
   "outputs": [
    {
     "name": "stdout",
     "output_type": "stream",
     "text": [
      "{'Germán': 4.15, 'Alicia': 3.65, 'Pepito': 3.4}\n"
     ]
    }
   ],
   "source": [
    "notas = {'Germán': [4.5, 3.7, 3.4, 5],'Alicia': [3.5, 3, 4.2, 3.9],'Pepito': [2.6, 3.0, 3.9, 4.1]}\n",
    "\n",
    "promedios = map(lambda x: sum(x)/len(x), notas.values())\n",
    "promedios = dict(zip(notas.keys(), promedios))\n",
    "print(promedios)"
   ]
  }
 ],
 "metadata": {
  "kernelspec": {
   "display_name": "Python 3 (ipykernel)",
   "language": "python",
   "name": "python3"
  },
  "language_info": {
   "codemirror_mode": {
    "name": "ipython",
    "version": 3
   },
   "file_extension": ".py",
   "mimetype": "text/x-python",
   "name": "python",
   "nbconvert_exporter": "python",
   "pygments_lexer": "ipython3",
   "version": "3.7.8"
  }
 },
 "nbformat": 4,
 "nbformat_minor": 4
}
