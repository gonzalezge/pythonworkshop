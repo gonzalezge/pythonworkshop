{
 "cells": [
  {
   "cell_type": "markdown",
   "metadata": {},
   "source": [
    "<img src=\"https://raw.githubusercontent.com/paular143/images_notebooks/master/logo-sin-nombre.png\" alt=\"Universidad de Los Andes\" style=\"width: 90px;\" align=\"left\" frameborder=\"300\"/>\n",
    "\n",
    "**UNIVERSIDAD DE LOS ANDES** <br>\n",
    "**FACULTAD DE ECONOMÍA** <br>\n",
    "**Taller de Python** <br>\n",
    "**PROFESOR:** Germán González <br><br>"
   ]
  },
  {
   "cell_type": "markdown",
   "metadata": {},
   "source": [
    "# Clase 4: Ciclos y Funciones\n",
    "En esta clase se cubren los siguientes temas:\n",
    "\n",
    "- Loops de una sola linea\n",
    "- Funciones recursivas\n",
    "- Documentacion de funciones\n",
    "- Controles sobre los ciclos\n",
    "- Ejercicios"
   ]
  },
  {
   "cell_type": "markdown",
   "metadata": {},
   "source": [
    "## Loops de una sola linea\n",
    "\n",
    "Los *loops* de una sola línea típicamente se usan para definir listas de una manera comprensiva a partir de un iterable (características en común, operaciones sobre el iterable, etc). La sintaxis es:\n",
    "\n",
    "```python\n",
    "lista_compresiva = [cuerpo for elemento in iterable]\n",
    "```\n",
    "\n",
    "Recordemos que los iterables que hemos visto hasta ahora son los `strings`, las `tuplas` y las `listas`. Adicionalmente, podemos poner un condicional dentro de la definición. La sintasis es:\n",
    "\n",
    "```python\n",
    "lista_compresiva = [cuerpo for elemento in iterable if condicion]\n",
    "```"
   ]
  },
  {
   "cell_type": "markdown",
   "metadata": {},
   "source": [
    "Cree una lista con los elementos de la palabra `Tiburon`"
   ]
  },
  {
   "cell_type": "code",
   "execution_count": 58,
   "metadata": {},
   "outputs": [
    {
     "data": {
      "text/plain": [
       "['t', 'i', 'b', 'u', 'r', 'o', 'n']"
      ]
     },
     "execution_count": 58,
     "metadata": {},
     "output_type": "execute_result"
    }
   ],
   "source": [
    "lista_tiburon = [letra for letra in 'tiburon']\n",
    "lista_tiburon"
   ]
  },
  {
   "cell_type": "markdown",
   "metadata": {},
   "source": [
    "Cree una lista con los cuadrados de los números menores a 15"
   ]
  },
  {
   "cell_type": "code",
   "execution_count": 59,
   "metadata": {},
   "outputs": [
    {
     "data": {
      "text/plain": [
       "[0, 1, 4, 9, 16, 25, 36, 49, 64, 81, 100, 121, 144, 169, 196]"
      ]
     },
     "execution_count": 59,
     "metadata": {},
     "output_type": "execute_result"
    }
   ],
   "source": [
    "lista_numeros = [x**2 for x in range(15)]\n",
    "lista_numeros"
   ]
  },
  {
   "cell_type": "markdown",
   "metadata": {},
   "source": [
    "Cree una lista con los cuadrados de los números múltiplos de 3 menores a 30  "
   ]
  },
  {
   "cell_type": "code",
   "execution_count": 61,
   "metadata": {},
   "outputs": [
    {
     "data": {
      "text/plain": [
       "[0, 9, 36, 81, 144, 225, 324, 441, 576, 729]"
      ]
     },
     "execution_count": 61,
     "metadata": {},
     "output_type": "execute_result"
    }
   ],
   "source": [
    "lista_numeros = [x**2 for x in range(30) if x%3==0]\n",
    "lista_numeros"
   ]
  },
  {
   "cell_type": "markdown",
   "metadata": {},
   "source": [
    "## Funciones Recursivas\n",
    "\n",
    "La mayoría de veces que implementamos una función está incluye un ciclo `for`o `while`. Estas herramientas son increibles porque su implementación es intuitva y directa. Sin embargo, las soluciones de este tipo a veces pueden tener un código díficil de entender. \n",
    "\n",
    "Hay una solución a este tipo de problemas ... *recursión* \n",
    "\n",
    "Los ciclos son usados para repetir una acción (bloque de código) tantas veces como se requiera y siempre tienen una condición para dejar de ejecutar el código (Se término el objeto sobre el cual estaba iterando `for` o deje de cumplir la condición `while`). En los problemas recursivos no existen esas condiciones que determinan cuándo terminé.\n",
    "\n",
    "Una función recursiva consite de 2 partes:\n",
    "- El caso base: Es una condición que verifica si tenemos la información que necesitamos para ejecutar nuestra función. Siempre debe haber un caso base, pero pueden haber varios. \n",
    "- El llamado recursivo: Es un llamado a la función dentro de la función. Sí, son funciones que se llaman a si mismas. \n",
    "\n",
    "Un ejemplo estándard de funciones recursivas es el factorial (!) para los números naturales. \n",
    "\n",
    "$$\\text{factorial}(n)=n! =\\begin{cases} 1 & \\text{si } n=0 \\land n\\in \\mathbb{N}  n\\times(n-1)! & \\text{si } n>0 \\land n\\in \\mathbb{N}\\end{cases}$$\n",
    "\n",
    "1! = 1 \n",
    "\\\n",
    "2! = 1x2 = 2\n",
    "\\\n",
    "3! = 1x2x3=6\n",
    "\\\n",
    "4! = 1x2x3x4 = 24\n",
    "\\\n",
    "5! = 1x2x3x4x5 = 120"
   ]
  },
  {
   "cell_type": "code",
   "execution_count": null,
   "metadata": {},
   "outputs": [],
   "source": []
  },
  {
   "cell_type": "code",
   "execution_count": 63,
   "metadata": {},
   "outputs": [],
   "source": [
    "def factorial_recursivo(n):\n",
    "    if n==0:\n",
    "        return(1)\n",
    "    else:\n",
    "        return(n*factorial_recursivo(n-1))\n",
    "        "
   ]
  },
  {
   "cell_type": "code",
   "execution_count": 68,
   "metadata": {},
   "outputs": [
    {
     "data": {
      "text/plain": [
       "2"
      ]
     },
     "execution_count": 68,
     "metadata": {},
     "output_type": "execute_result"
    }
   ],
   "source": [
    "factorial_recursivo(n=2)"
   ]
  },
  {
   "cell_type": "code",
   "execution_count": 69,
   "metadata": {},
   "outputs": [],
   "source": [
    "n = 3"
   ]
  },
  {
   "cell_type": "markdown",
   "metadata": {},
   "source": [
    "Sin embargo, todas las funciones recursivas se pueden escribir de forma iterativa, es decir, con un ciclo `for` o `while`. Por ejemplo, escribamos la función factorial de manera iterativa."
   ]
  },
  {
   "cell_type": "code",
   "execution_count": 8,
   "metadata": {},
   "outputs": [],
   "source": [
    "def factorial_iterativo(n):\n",
    "    resultado=n\n",
    "    for m in range(1,n):\n",
    "        resultado*=m\n",
    "    return(resultado)"
   ]
  },
  {
   "cell_type": "code",
   "execution_count": 9,
   "metadata": {},
   "outputs": [
    {
     "data": {
      "text/plain": [
       "120"
      ]
     },
     "execution_count": 9,
     "metadata": {},
     "output_type": "execute_result"
    }
   ],
   "source": [
    "factorial_iterativo(n=5)"
   ]
  },
  {
   "cell_type": "markdown",
   "metadata": {},
   "source": [
    "## Controles sobre los *loops*\n",
    "\n",
    "A veces nos podemos enfrentar a situaciones en las que necesitamos salir completamente de un ciclo si se cumple alguna condición o puede haber pasos del *loop* que nos queremos saltar. Los comandos que permiten este tipo de control sobre los ciclos son:\n",
    "\n",
    "```python\n",
    "break, continue, pass\n",
    "```\n",
    "\n",
    "Escriba un ciclo que recorra una palabra, imprimiendo cada letra, y se salga del ciclo apenas encuentre la letra `h`"
   ]
  },
  {
   "cell_type": "code",
   "execution_count": 73,
   "metadata": {},
   "outputs": [
    {
     "name": "stdout",
     "output_type": "stream",
     "text": [
      "C\n"
     ]
    }
   ],
   "source": [
    "palabra='Charro'\n",
    "for letra in palabra:\n",
    "    if letra=='h':\n",
    "        break\n",
    "    print(letra)"
   ]
  },
  {
   "cell_type": "code",
   "execution_count": 81,
   "metadata": {},
   "outputs": [
    {
     "ename": "KeyboardInterrupt",
     "evalue": "",
     "output_type": "error",
     "traceback": [
      "\u001b[0;31m---------------------------------------------------------------------------\u001b[0m",
      "\u001b[0;31mKeyboardInterrupt\u001b[0m                         Traceback (most recent call last)",
      "\u001b[0;32m/var/folders/29/51qvqyvn5j511ycdc2c41_gh0000gn/T/ipykernel_41779/266949418.py\u001b[0m in \u001b[0;36m<module>\u001b[0;34m\u001b[0m\n\u001b[1;32m      2\u001b[0m \u001b[0mgradiente_cero\u001b[0m \u001b[0;34m=\u001b[0m \u001b[0;32mTrue\u001b[0m\u001b[0;34m\u001b[0m\u001b[0;34m\u001b[0m\u001b[0m\n\u001b[1;32m      3\u001b[0m \u001b[0;32mfor\u001b[0m \u001b[0mj\u001b[0m \u001b[0;32min\u001b[0m \u001b[0mrange\u001b[0m\u001b[0;34m(\u001b[0m\u001b[0;36m0\u001b[0m\u001b[0;34m,\u001b[0m\u001b[0;36m2\u001b[0m\u001b[0;34m)\u001b[0m\u001b[0;34m:\u001b[0m\u001b[0;34m\u001b[0m\u001b[0;34m\u001b[0m\u001b[0m\n\u001b[0;32m----> 4\u001b[0;31m     \u001b[0;32mwhile\u001b[0m \u001b[0mgradiente_cero\u001b[0m\u001b[0;34m:\u001b[0m\u001b[0;34m\u001b[0m\u001b[0;34m\u001b[0m\u001b[0m\n\u001b[0m\u001b[1;32m      5\u001b[0m         \u001b[0;32mif\u001b[0m \u001b[0mcontador\u001b[0m\u001b[0;34m==\u001b[0m\u001b[0;36m100\u001b[0m\u001b[0;34m:\u001b[0m\u001b[0;34m\u001b[0m\u001b[0;34m\u001b[0m\u001b[0m\n\u001b[1;32m      6\u001b[0m             \u001b[0;32mbreak\u001b[0m\u001b[0;34m\u001b[0m\u001b[0;34m\u001b[0m\u001b[0m\n",
      "\u001b[0;31mKeyboardInterrupt\u001b[0m: "
     ]
    }
   ],
   "source": [
    "contador = 0\n",
    "gradiente_cero = True \n",
    "for j in range(0,2):\n",
    "    while gradiente_cero:\n",
    "        if contador==100:\n",
    "            break"
   ]
  },
  {
   "cell_type": "markdown",
   "metadata": {},
   "source": [
    "Ahora, no detenga el ciclo sino saltese esa letra"
   ]
  },
  {
   "cell_type": "code",
   "execution_count": 74,
   "metadata": {},
   "outputs": [
    {
     "name": "stdout",
     "output_type": "stream",
     "text": [
      "C\n",
      "a\n",
      "r\n",
      "r\n",
      "o\n"
     ]
    }
   ],
   "source": [
    "palabra='Charro'\n",
    "for letra in palabra:\n",
    "    if letra=='h':\n",
    "        continue\n",
    "        ### Todo lo de acá no se corre\n",
    "        print('H')\n",
    "    print(letra)\n",
    "    \n"
   ]
  },
  {
   "cell_type": "markdown",
   "metadata": {},
   "source": [
    "A diferencia de `break`y `continue`, `pass` es una orden que no hace nada y sirve para llenar espacios de código que se requiere por sintaxis. "
   ]
  },
  {
   "cell_type": "code",
   "execution_count": 78,
   "metadata": {},
   "outputs": [
    {
     "ename": "IndentationError",
     "evalue": "expected an indented block (2292432243.py, line 4)",
     "output_type": "error",
     "traceback": [
      "\u001b[0;36m  File \u001b[0;32m\"/var/folders/29/51qvqyvn5j511ycdc2c41_gh0000gn/T/ipykernel_41779/2292432243.py\"\u001b[0;36m, line \u001b[0;32m4\u001b[0m\n\u001b[0;31m    print(letra)\u001b[0m\n\u001b[0m        ^\u001b[0m\n\u001b[0;31mIndentationError\u001b[0m\u001b[0;31m:\u001b[0m expected an indented block\n"
     ]
    }
   ],
   "source": [
    "palabra='Charro'\n",
    "for letra in palabra:\n",
    "    if letra=='h': # Dejar sin ninguna instrucción el if me genera un error de sintaxis. \n",
    "    print(letra)"
   ]
  },
  {
   "cell_type": "code",
   "execution_count": 79,
   "metadata": {},
   "outputs": [
    {
     "name": "stdout",
     "output_type": "stream",
     "text": [
      "C\n",
      "h\n",
      "a\n",
      "r\n",
      "r\n",
      "o\n"
     ]
    }
   ],
   "source": [
    "palabra='Charro'\n",
    "for letra in palabra:\n",
    "    if letra=='h':\n",
    "        pass\n",
    "    \n",
    "    print(letra)"
   ]
  },
  {
   "cell_type": "code",
   "execution_count": 83,
   "metadata": {},
   "outputs": [
    {
     "data": {
      "text/plain": [
       "\u001b[0;31mSignature:\u001b[0m \u001b[0msum\u001b[0m\u001b[0;34m(\u001b[0m\u001b[0miterable\u001b[0m\u001b[0;34m,\u001b[0m \u001b[0mstart\u001b[0m\u001b[0;34m=\u001b[0m\u001b[0;36m0\u001b[0m\u001b[0;34m,\u001b[0m \u001b[0;34m/\u001b[0m\u001b[0;34m)\u001b[0m\u001b[0;34m\u001b[0m\u001b[0;34m\u001b[0m\u001b[0m\n",
       "\u001b[0;31mDocstring:\u001b[0m\n",
       "Return the sum of a 'start' value (default: 0) plus an iterable of numbers\n",
       "\n",
       "When the iterable is empty, return the start value.\n",
       "This function is intended specifically for use with numeric values and may\n",
       "reject non-numeric types.\n",
       "\u001b[0;31mType:\u001b[0m      builtin_function_or_method\n"
      ]
     },
     "metadata": {},
     "output_type": "display_data"
    }
   ],
   "source": [
    "?sum"
   ]
  },
  {
   "cell_type": "markdown",
   "metadata": {},
   "source": [
    "## Documentacion de Funciones\n",
    "\n",
    "Es importante tener en cuenta esto, Las funciones necesitan una documentación!\n",
    "Nos ayuda a saber hace una función, es lo que sale en el `help`.\n",
    "\n",
    "```python\n",
    "def funcion(argumentos):\n",
    "    \"\"\"\n",
    "    Linea de resumen.\n",
    "\n",
    "    Descripción un poco más extendida de la función.\n",
    "\n",
    "    Parametros\n",
    "    ----------\n",
    "    arg1 : clase\n",
    "        Descripcion del argumento 1\n",
    "    arg2 : clase\n",
    "        Descripcion del argumento 2\n",
    "\n",
    "    Resultados\n",
    "    -------\n",
    "    clase\n",
    "        Descripcion del valor de retorno\n",
    "\n",
    "    \"\"\"\n",
    "    Desarrollo de la función\n",
    "```\n"
   ]
  },
  {
   "cell_type": "code",
   "execution_count": 84,
   "metadata": {},
   "outputs": [
    {
     "name": "stdout",
     "output_type": "stream",
     "text": [
      "Help on function suma in module __main__:\n",
      "\n",
      "suma(a, b)\n",
      "    Función que suma dos números.\n",
      "    \n",
      "    Función que suma dos números, ¿qué mas puedo decir?.\n",
      "    \n",
      "    Parametros\n",
      "    ----------\n",
      "    a : float\n",
      "        Primer numero a sumar\n",
      "    b : float\n",
      "        Segundo numero a sumar\n",
      "    \n",
      "    Resultados\n",
      "    -------\n",
      "    float\n",
      "        Suma de a y b\n",
      "\n"
     ]
    },
    {
     "data": {
      "text/plain": [
       "13.5"
      ]
     },
     "execution_count": 84,
     "metadata": {},
     "output_type": "execute_result"
    }
   ],
   "source": [
    "def suma(a,b):\n",
    "    \"\"\"\n",
    "    Función que suma dos números.\n",
    "\n",
    "    Función que suma dos números, ¿qué mas puedo decir?.\n",
    "\n",
    "    Parametros\n",
    "    ----------\n",
    "    a : float\n",
    "        Primer numero a sumar\n",
    "    b : float\n",
    "        Segundo numero a sumar\n",
    "\n",
    "    Resultados\n",
    "    -------\n",
    "    float\n",
    "        Suma de a y b\n",
    "\n",
    "    \"\"\"\n",
    "\n",
    "    return(a+b)\n",
    "\n",
    "help(suma)\n",
    "\n",
    "suma(10,3.5)"
   ]
  },
  {
   "cell_type": "markdown",
   "metadata": {},
   "source": [
    "# Problemas"
   ]
  },
  {
   "cell_type": "markdown",
   "metadata": {},
   "source": [
    "## Problema 1: Menor a 10 I\n",
    "Defina una función que reciba una lista numérica e imprima cuántos elementos son menores que 10."
   ]
  },
  {
   "cell_type": "code",
   "execution_count": 47,
   "metadata": {},
   "outputs": [],
   "source": [
    "def impresion_menor_diez(lista):\n",
    "    contador=0\n",
    "    for i in lista:\n",
    "        if i<10:\n",
    "            contador+=1\n",
    "    return(contador)"
   ]
  },
  {
   "cell_type": "code",
   "execution_count": 48,
   "metadata": {},
   "outputs": [
    {
     "data": {
      "text/plain": [
       "3"
      ]
     },
     "execution_count": 48,
     "metadata": {},
     "output_type": "execute_result"
    }
   ],
   "source": [
    "impresion_menor_diez(lista=[1,19,2,3,20,21])"
   ]
  },
  {
   "cell_type": "markdown",
   "metadata": {},
   "source": [
    "## Problema 2: Menor a 10 II\n",
    "Modifique la anterior función para que retorne una nueva lista únicamente con tales elementos menores que 10."
   ]
  },
  {
   "cell_type": "code",
   "execution_count": 49,
   "metadata": {},
   "outputs": [],
   "source": [
    "def lista_menor_diez(lista):\n",
    "    resultado=[]\n",
    "    for i in lista:\n",
    "        if i<10:\n",
    "            resultado.append(i)\n",
    "    return(resultado)"
   ]
  },
  {
   "cell_type": "code",
   "execution_count": 22,
   "metadata": {},
   "outputs": [
    {
     "data": {
      "text/plain": [
       "[1, 2, 3]"
      ]
     },
     "execution_count": 22,
     "metadata": {},
     "output_type": "execute_result"
    }
   ],
   "source": [
    "lista_menor_diez(lista=[1,19,2,3,20,21])"
   ]
  },
  {
   "cell_type": "markdown",
   "metadata": {},
   "source": [
    "## Problema 3: Invertir orden\n",
    "Defina una función que reciba un string e imprima el mismo string con las palabras en el orden inverso.\n",
    "- Por ejemplo, si la función recibe 'German es el profesor' la función debe imprimir 'profesor el es German'.\n",
    "- Pista: recuerde que puede dividir un string usando _split()_.\n",
    "- Pista: Busque el método .join"
   ]
  },
  {
   "cell_type": "code",
   "execution_count": 23,
   "metadata": {},
   "outputs": [],
   "source": [
    "def regreso(string):\n",
    "    lista=string.split()[::-1]\n",
    "    return(' '.join(lista))"
   ]
  },
  {
   "cell_type": "code",
   "execution_count": 24,
   "metadata": {},
   "outputs": [
    {
     "data": {
      "text/plain": [
       "'profesor el es German'"
      ]
     },
     "execution_count": 24,
     "metadata": {},
     "output_type": "execute_result"
    }
   ],
   "source": [
    "regreso(string='German es el profesor')"
   ]
  },
  {
   "cell_type": "markdown",
   "metadata": {},
   "source": [
    "## Problema 4: Palíndromo\n",
    "Cree una función que reciba una cadena de caracteres (string) e imprima si es un palíndromo (se lee igual de izquierda a derecha que de derecha a izquierda)."
   ]
  },
  {
   "cell_type": "code",
   "execution_count": 50,
   "metadata": {},
   "outputs": [],
   "source": [
    "def palindromo(string):\n",
    "    if string==string[::-1]:\n",
    "        return(True)\n",
    "    else:\n",
    "        return(False)"
   ]
  },
  {
   "cell_type": "code",
   "execution_count": 33,
   "metadata": {},
   "outputs": [
    {
     "data": {
      "text/plain": [
       "True"
      ]
     },
     "execution_count": 33,
     "metadata": {},
     "output_type": "execute_result"
    }
   ],
   "source": [
    "palindromo(string='ana')"
   ]
  },
  {
   "cell_type": "markdown",
   "metadata": {},
   "source": [
    "## Problema 5: Piedra, Papel o Tijera\n",
    "Construya la función _piedra-papel-tijera_ que reciba la elección del jugador (entre piedra, papel o tijera) y se enfrente al computador (Pista: busque `np.random.choice`). Finalmente debe retornan un mensaje como:\n",
    "\n",
    "-`Jugador ganó: tijera vs papel`\n",
    "-`Computadora ganó: papel vs piedra`\n",
    "-`Empataron: tijera`\n",
    "\n",
    "En caso que la jugada sea distinto de \"tijera\", \"papel\" o \"piedra\" debe retornar un mensaje adviertiendo al respecto.\n",
    "\n"
   ]
  },
  {
   "cell_type": "code",
   "execution_count": 51,
   "metadata": {},
   "outputs": [],
   "source": [
    "import numpy as np"
   ]
  },
  {
   "cell_type": "code",
   "execution_count": 42,
   "metadata": {},
   "outputs": [],
   "source": [
    "def piedra_papel_tijera(jugada):\n",
    "    if (not(jugada in ['tijera', 'piedra', 'papel'])):\n",
    "        return('La jugada no es permitida, debe ser \"tijera\", \"piedra\" o \"papel\"')\n",
    "    computador=np.random.choice(['tijera', 'piedra', 'papel'])\n",
    "    if jugada==computador:\n",
    "        return('Empate en:',jugada)\n",
    "    else: \n",
    "        if ((jugada=='piedra' and computador=='tijera') or (jugada=='tijera' and computador=='papel') or (jugada=='papel' and computador=='piedra')):\n",
    "            return('Jugador ganó:', jugada, 'vs', computador)\n",
    "        else:\n",
    "            return('Computadora ganó:', jugada, 'vs', computador)"
   ]
  },
  {
   "cell_type": "code",
   "execution_count": 43,
   "metadata": {},
   "outputs": [
    {
     "data": {
      "text/plain": [
       "('Computadora ganó:', 'piedra', 'vs', 'papel')"
      ]
     },
     "execution_count": 43,
     "metadata": {},
     "output_type": "execute_result"
    }
   ],
   "source": [
    "piedra_papel_tijera(jugada='piedra')"
   ]
  },
  {
   "cell_type": "markdown",
   "metadata": {},
   "source": [
    "## Problema 6: Fibonacci\n",
    "Construya una función que reciba el tamaño de la serie de Fibonacci que desea el usuario y que este retorne la serie en una lista (Vea sobre la [serie de Fibonacci](https://es.wikipedia.org/wiki/Sucesi%C3%B3n_de_Fibonacci)). En caso que el tamaño sea inferior a 2 debe retornar un mensaje diciendo que no posible computar la serie para ese tamaño."
   ]
  },
  {
   "cell_type": "code",
   "execution_count": 52,
   "metadata": {},
   "outputs": [],
   "source": [
    "def fibonacci(n):\n",
    "    if n<2:\n",
    "        return('No es posible computar la serie de fibonacci para n<2')\n",
    "    lista=[0,1]\n",
    "    contador=n-2\n",
    "    while len(lista)<n:\n",
    "        ## Size de la lista\n",
    "        m=len(lista)\n",
    "        ## Último elemento\n",
    "        x=lista[m-1]\n",
    "        ## Penúltimo elemento\n",
    "        y=lista[m-2]\n",
    "        ## Suma \n",
    "        lista.append(x+y)\n",
    "    return(lista)"
   ]
  },
  {
   "cell_type": "code",
   "execution_count": 53,
   "metadata": {},
   "outputs": [
    {
     "data": {
      "text/plain": [
       "[0, 1, 1, 2, 3, 5, 8, 13, 21, 34]"
      ]
     },
     "execution_count": 53,
     "metadata": {},
     "output_type": "execute_result"
    }
   ],
   "source": [
    "fibonacci(n=10)"
   ]
  },
  {
   "cell_type": "code",
   "execution_count": null,
   "metadata": {},
   "outputs": [],
   "source": []
  },
  {
   "cell_type": "code",
   "execution_count": null,
   "metadata": {},
   "outputs": [],
   "source": []
  }
 ],
 "metadata": {
  "kernelspec": {
   "display_name": "Python 3 (ipykernel)",
   "language": "python",
   "name": "python3"
  },
  "language_info": {
   "codemirror_mode": {
    "name": "ipython",
    "version": 3
   },
   "file_extension": ".py",
   "mimetype": "text/x-python",
   "name": "python",
   "nbconvert_exporter": "python",
   "pygments_lexer": "ipython3",
   "version": "3.7.8"
  }
 },
 "nbformat": 4,
 "nbformat_minor": 4
}
