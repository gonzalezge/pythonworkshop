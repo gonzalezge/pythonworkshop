{
 "cells": [
  {
   "cell_type": "code",
   "execution_count": 17,
   "metadata": {},
   "outputs": [
    {
     "name": "stdout",
     "output_type": "stream",
     "text": [
      "2 2\n",
      "3 2\n",
      "append\n",
      "4 2\n",
      "5 2\n",
      "append\n",
      "append\n",
      "append\n",
      "6 4\n",
      "7 2\n",
      "append\n",
      "append\n",
      "append\n",
      "append\n",
      "append\n",
      "8 6\n",
      "9 2\n",
      "append\n",
      "10 3\n",
      "11 2\n",
      "append\n",
      "append\n",
      "append\n",
      "append\n",
      "append\n",
      "append\n",
      "append\n",
      "append\n",
      "append\n",
      "12 10\n",
      "{3, 5, 7, 9, 11}\n"
     ]
    }
   ],
   "source": [
    "x = 12 \n",
    "li = []\n",
    "for p in range(2, x+1):\n",
    "    print(p,i)\n",
    "    for i in range(2,p):\n",
    "        if p%i ==0:\n",
    "            break \n",
    "        else:\n",
    "            print('append')\n",
    "            li.append(p)\n",
    "print(set(list(li)))"
   ]
  },
  {
   "cell_type": "code",
   "execution_count": 21,
   "metadata": {},
   "outputs": [
    {
     "data": {
      "text/plain": [
       "True"
      ]
     },
     "execution_count": 21,
     "metadata": {},
     "output_type": "execute_result"
    }
   ],
   "source": [
    "type('5') == str"
   ]
  }
 ],
 "metadata": {
  "kernelspec": {
   "display_name": "Python 3",
   "language": "python",
   "name": "python3"
  },
  "language_info": {
   "codemirror_mode": {
    "name": "ipython",
    "version": 3
   },
   "file_extension": ".py",
   "mimetype": "text/x-python",
   "name": "python",
   "nbconvert_exporter": "python",
   "pygments_lexer": "ipython3",
   "version": "3.8.1"
  }
 },
 "nbformat": 4,
 "nbformat_minor": 4
}
