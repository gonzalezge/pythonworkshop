{
 "cells": [
  {
   "cell_type": "markdown",
   "metadata": {},
   "source": [
    "<img src=\"https://raw.githubusercontent.com/paular143/images_notebooks/master/logo-sin-nombre.png\" alt=\"Universidad de Los Andes\" style=\"width: 90px;\" align=\"left\" frameborder=\"300\"/>\n",
    "\n",
    "**UNIVERSIDAD DE LOS ANDES** <br>\n",
    "**FACULTAD DE ECONOMÍA** <br>\n",
    "**Taller de Python** <br>\n",
    "**PROFESOR:** Germán González <br><br>\n",
    "\n",
    "Taller 1\n",
    "\n",
    "En su calificación se tendrá en cuenta:\n",
    "\n",
    "- Que la solución cumpla lo que se pide.\n",
    "- Claridad de la solución.\n",
    "- Orden.\n",
    "- Comentarios al código.\n",
    "- Uso de las herramientas vistas hasta el momento en el curso\n",
    "- Debe subir un notebook **nombre_codigo.ipynb**\n",
    "\n",
    "Recuerde que el taller incluye los temas vistos en la clase hasta este momento y vale el 30% de la materia. "
   ]
  },
  {
   "cell_type": "markdown",
   "metadata": {},
   "source": [
    "## Pregunta 1\n",
    "\n",
    "Construya una función que invierta una cadena de texto. Llámela `invertirTexto`. \n",
    "\n",
    "\n",
    "`invertirText('hola')`\n",
    "`aloh'"
   ]
  },
  {
   "cell_type": "code",
   "execution_count": 2,
   "metadata": {},
   "outputs": [],
   "source": [
    "def invertirTexto(texto):\n",
    "    return(texto[::-1])"
   ]
  },
  {
   "cell_type": "markdown",
   "metadata": {},
   "source": [
    "## Pregunta 2\n",
    "\n",
    "Considere la siguiente lista de palabras\n",
    "\n",
    "```python\n",
    "textos = ['contrabasa', 'mancillado', 'batín', 'chiquillada', 'rezo', 'vaguada', 'conca', 'glaciar', 'pasmoso', 'inquina', 'incremento', 'cosmetología', 'pedregullo', 'higrométrico', 'pisador', 'calvitar', 'memorialesco', 'gutiámbar', 'desapercebido', 'distribuir', 'apelambrar', 'púnico', 'citania', 'emperchado', 'carlita', 'timpanitis', 'faccioso', 'predial', 'papelujo', 'troza', 'dilatómetro', 'excesivo', 'entomólogo', 'instigador', 'comunidad', 'defensorio', 'gran', 'pintiparar', 'caico', 'donado', 'batik', 'íncipit', 'reverenciar', 'piloso', 'pestorejo', 'citarizar', 'escomendrijo', 'timbalero', 'diaconía', 'verdezuelo', 'freidura', 'degüella', 'machaquero', 'tratador', 'sábano', 'escrutar', 'borona', 'alasita', 'glosilla', 'exhumar', 'sobriedad', 'acunar', 'Sagitario', 'tabular', 'plantosa', 'registrador', 'aporcar', 'sexo', 'contrabatería', 'monaquismo', 'coyotear', 'heredanza', 'consagrable', 'estrambóticamente', 'católico', 'chipá', 'daguerrotipar', 'guardamateriales', 'discreto', 'mortandad', 'argadillo', 'descuadrilarse', 'condal', 'cantautor', 'apañuscar', 'consectario', 'terciodécuplo', 'pelote', 'recto', 'verroja', 'grilla', 'maletera', 'estral', 'catéter', 'macancoa', 'eslabón', 'bacteriostático', 'azote', 'conducta', 'despicar', 'aboral', 'buldero', 'intervenir', 'meloncillo', 'dozavo', 'tenamaste', 'cantaletear', 'erutación', 'estadista', 'gas', 'menear', 'corar', 'incontinencia', 'valdiviano', 'adicionar', 'ratonar', 'decurrente', 'farandulero', 'jeque', 'mapa', 'recrudescencia', 'pollo', 'precitado', 'jileco', 'polinesio', 'poblazo', 'desapasionado', 'presuntivo', 'gemiqueo', 'petición', 'ultraje', 'gil', 'decemnovenal', 'doctrinar', 'priste', 'loca', 'buchaca', 'recién', 'Bohemia', 'cakchiquel', 'vaca', 'zapatera', 'retiradamente', 'empigüelar', 'predicable', 'carabear', 'indeterminado', 'cabuyera', 'pitillo', 'desunión', 'tontucio', 'leptorrino', 'almizate', 'apizarrado', 'prédica', 'porcipelo', 'demente', 'mocárabe', 'bicentenario', 'atericiarse', 'empotrerar', 'sida', 'soldadura', 'intercalar', 'musgo', 'leprosería', 'Pinto', 'carrilludo', 'pincel', 'sexma', 'glorificación', 'retozo', 'bardana', 'embobamiento', 'churla', 'quedada', 'fascículo', 'percochar', 'anquilostoma', 'tinterillada', 'oxigenación', 'apezuñar', 'heterodino', 'triste', 'lande', 'engolfar', 'rectificable', 'completo', 'sudamina', 'playero', 'diástilo', 'hemíptero', 'estítico', 'alcarchofado', 'corsariamente', 'caloriamperímetro', 'arredondear', 'mágico', 'lejura', 'electrón', 'sumergible', 'coihué', 'hormero', 'alminar', 'teísta', 'cirrópodo', 'solapadamente', 'pensado', 'antojanza', 'salentino', 'goethiano', 'choriceo', 'cancelario', 'arboledo', 'carpintera', 'enlejiar', 'monje', 'exentar', 'eritroxiláceo', 'estrumpido', 'quinchihué', 'hesperio', 'guardalobo', 'santificante', 'cosmopolita', 'encasamiento', 'descalabro', 'acaudillamiento', 'desintoxicación', 'hedónico', 'merchante', 'delgadeza', 'curtimiento', 'desconchado', 'pregón', 'pelambrera', 'xilema', 'estrapada', 'vinagroso', 'gético', 'acuartelado', 'cuajadillo', 'réquiem', 'melifluo', 'descaer', 'escopladura', 'galoneador', 'tollo', 'abrasivo', 'blandón', 'regiduría', 'derechizar', 'corrobra', 'embojo', 'ácido', 'mirística', 'superveniencia', 'trióxido', 'honrable', 'citófono', 'etéreo', 'franjear', 'desenmallar', 'corridamente', 'convencionalmente', 'paraninfo', 'anticlericalismo', 'palomero', 'cavernario', 'valeriánico', 'imperfectamente', 'sampán', 'palqui', 'embotar', 'noto', 'catarinita', 'rumbo', 'desanimación', 'pañal', 'esportear', 'curalle', 'embelecador', 'hallado', 'cambocho', 'nosografía', 'tiparraco', 'entiesar', 'magancear', 'solfista', 'vendal', 'entrenador', 'desgradecido', 'superconductividad', 'retirar', 'incisivo', 'intelectualizar', 'costanera', 'amotinamiento', 'abrileño', 'aliquebrar', 'citarilla', 'lembrar', 'electivo', 'catifa', 'cinerario', 'eccema', 'desactivar', 'memorismo', 'arrebatar', 'pospierna', 'voltaje', 'avisaje', 'tiroriro', 'mediator', 'aretino', 'retóricamente', 'romboidal', 'musáceo', 'brahmanismo', 'huevar', 'inhalar', 'maceador', 'pindonguear', 'repisa', 'macarrónicamente', 'internada', 'litrarieo', 'papirola', 'fibrilar', 'elogiar', 'cicoria', 'garete', 'desavezar', 'maquinizar', 'pulque', 'zafero', 'ajimezado', 'esterificación', 'chagolla', 'plombagina', 'máximamente', 'capitalidad', 'negrada', 'chascón', 'espectable', 'pecha', 'ornamental', 'entenebrecer', 'interjectivo', 'decrecer', 'intoxicación', 'pelero', 'novecientos', 'maestraje', 'decimosexto', 'perturbable', 'tlapalería', 'zaya', 'desmemoria', 'malignidad', 'zulaquear', 'menguadamente', 'hurañía', 'deferente', 'calimbo', 'oligofrénico', 'pasiflora', 'berlingar', 'colombofilia', 'añoja', 'tripartición', 'involuntario', 'retrocuenta', 'sulfamida', 'persecutor', 'arpista', 'ramulla', 'destiladera', 'escultural', 'desentumecer', 'traspasamiento', 'salvo', 'balénido', 'pómulo', 'engañabobos', 'molondra', 'relajada', 'mayorala', 'palmilla', 'teomanía', 'pétreo', 'deslinajar', 'aspearse', 'apostemoso', 'nubarrado', 'farmacopea', 'popayanejo', 'industrioso', 'alece', 'hadario', 'desahogamiento', 'éxodo', 'inteligencia', 'liberar', 'pautado', 'canilludo', 'inventario', 'landa', 'crazada', 'trastornamiento', 'garrubia', 'tromboangitis', 'episcopal', 'contracifra', 'enerizar', 'diagnosis', 'estantalar', 'tambesco', 'replicato', 'purear', 'visura', 'sembradío', 'dimorfismo', 'fototerapia', 'cazo', 'percusor', 'tú', 'samblaje', 'somatén', 'cártel', 'piso', 'ocupante', 'entremezcladura', 'irrepetible', 'calizo', 'telerón', 'alquiler', 'daltónico', 'algarrobera', 'pitao', 'chuva', 'iluminación', 'rezadera', 'desgreñar', 'prisionero', 'romanismo', 'cachipolla', 'favoritismo', 'desatraer', 'seiscientos', 'siderúrgico', 'vidriado', 'pipil', 'familiar', 'descariñarse', 'sancochado', 'envergue', 'reposición', 'madreselva', 'resedáceo', 'chambelán', 'machí', 'éxtasi', 'brasilero', 'amerizaje', 'desempulgadura', 'higienizar', 'osa', 'agalladura', 'rijosidad', 'sacio', 'criminólogo', 'tropero', 'remanar', 'laicización', 'jeruga', 'rejego', 'momero', 'desalmenar', 'corporificar', 'petrolquímico', 'corruptela', 'cúter', 'fitoterapeuta', 'tránsfuga', 'deshonrar', 'arrife', 'adocilar', 'asimilador', 'leviatán', 'mercadante', 'espesamente', 'borrachería', 'vender', 'chocarrero', 'talabartería', 'vélite', 'bortal', 'malviz']\n",
    "```\n",
    "\n",
    "Construya una lista que contenga todas estas palabras invertidas. [Pista: use el punto anterior y map]"
   ]
  },
  {
   "cell_type": "code",
   "execution_count": 3,
   "metadata": {},
   "outputs": [
    {
     "name": "stdout",
     "output_type": "stream",
     "text": [
      "['atinoraa', 'ocinóraa', 'aba', 'ababa', 'esrallibaba', 'orelacaba', 'orecaba', 'aírecaba', 'laicaba', 'arocaba', 'lobaba', 'lacaba', 'rarocaba', 'ácaba', 'otaidaba', 'daba', 'adaba', 'ojedaba', 'ognedaba', 'ranredaba', 'asedaba', 'odaidaba', 'arejaba', 'oñejaba', 'ojaba', 'ídaba', 'aídaba', 'oredajaba', 'otneimajaba', 'rajaba', 'adalaba', 'raznalaba', 'ralaba', 'odartsualaba', 'etnemadanodlaba', 'otneimanodlaba', 'ranodlaba', 'rodaelaba', 'arudaelaba', 'raelaba', 'oelaba', 'otneimazilaba', 'razilaba', 'rallaba', 'ratsellaba', 'oirolaba', 'ratraulaba', 'rodanaba', 'ranaba', 'ralacnaba', 'odarednaba', 'otneimarednaba', 'rarednaba', 'rodazirednaba', 'razirednaba', 'onodnaba', 'raenaba', 'racinaba', 'odanodnaba', 'otneimanodnaba', 'ranodnaba', 'omsinodnaba', 'atsinodnaba', 'ozacinaba', 'ocinaba', 'ollinaba', 'oninaba', 'oeuqinaba', 'oreuqinaba', 'aíreuqinaba', 'onaba', 'ítaba', 'odayaba', 'ratebraba', 'acraba', 'otnaba', 'rajaraba', 'otneimataraba', 'rataraba', 'rañaraba', 'rahcebraba', 'elbacraba', 'odacraba', 'rodacraba', 'arudacraba', 'otneimacraba', 'racraba', 'euqeraba', 'odanotiraba', 'raolraba', 'oreuqraba', 'odalliuqraba', 'otneimalliuqraba', 'ralliuqraba', 'razucraba', 'nócraba', 'rajarraba', 'racarraba', 'odarraba', 'otneimanagarraba', 'esranagarraba', 'odajarraba', 'otneimarraba', 'oredacnarraba', 'otneimacnarraba', 'racnarraba', 'rarraba', 'ranerraba', 'rerraba', 'ocsirraba', 'ratorraba', 'etorraba', 'oretorraba', 'aíretorraba', 'esraba', 'zarraba', 'arederraba', 'otsaba', 'ísaba', 'etnemadatsaba', 'otneimatsaba', 'etnatsaba', 'aznatsaba', 'ratsaba', 'recetsaba', 'otneimicetsaba', 'oretsaba', 'otneimitsaba', 'ranoitsaba', 'odanataba', 'ranataba', 'otneimatataba', 'ratataba', 'etaba', 'elbitaba', 'oditaba', 'aruditaba', 'otneimitaba', 'ritaba', 'omsitaba', 'rajotaba', 'rodañaba', 'arudañaba', 'rañaba', 'onatiredba', 'nóicacidba', 'racidba', 'etnemavitacidba', 'raenojeba', 'odacalleba', 'odacalleba', 'nózaba', 'ovitacidba', 'nemodba', 'lanimodba', 'nóiccudba', 'rotcudba', 'oiradeceba', 'ludeba', 'ajeba', 'rajeba', 'nórrajeba', 'ocurajeba', 'raejeba', 'orejeba', 'oenojeba', 'raerrojeba', 'oerrojeba', 'orrojeba', 'onujeba', 'nójeba', 'radleba', 'racalleba', 'atolleba', 'odatolleba', 'ocsomleba', 'etnemadalomeba', 'ralomeba', 'ejarrecneba', 'zuneba', 'odanejnereba', 'nóicarreba', 'etnarreba', 'rarreba', 'radratsaba', 'rodecetsaba', 'oreditaba']\n"
     ]
    }
   ],
   "source": [
    "textos =[\"aaronita\",\"aarónico\",\"aba\",\"ababa\",\"ababillarse\",\n",
    "         \"abacalero\",\"abacero\",\"abacería\",\"abacial\",\"abacora\",\n",
    "         \"ababol\",\"abacal\",\"abacorar\",\"abacá\",\"abadiato\",\n",
    "         \"abad\",\"abada\",\"abadejo\",\"abadengo\",\"abadernar\",\"abadesa\",\n",
    "         \"abadiado\",\"abajera\",\"abajeño\",\"abajo\",\n",
    "         \"abadí\",\"abadía\",\"abajadero\",\"abajamiento\",\"abajar\",\n",
    "         \"abalada\",\"abalanzar\",\"abalar\",\"abalaustrado\",\n",
    "         \"abaldonadamente\",\"abaldonamiento\",\n",
    "         \"abaldonar\",\"abaleador\",\"abaleadura\",\"abalear\",\"abaleo\",\"abalizamiento\",\n",
    "         \"abalizar\",\"aballar\",\"aballestar\",\"abalorio\",\"abaluartar\",\n",
    "         \"abanador\",\"abanar\",\"abancalar\",\"abanderado\",\"abanderamiento\",\n",
    "         \"abanderar\",\"abanderizador\",\"abanderizar\",\"abandono\",\"abanear\",\"abanicar\",\n",
    "         \"abandonado\",\"abandonamiento\",\"abandonar\",\"abandonismo\",\"abandonista\",\n",
    "         \"abanicazo\",\"abanico\",\"abanillo\",\"abanino\",\"abaniqueo\",\"abaniquero\",\n",
    "         \"abaniquería\",\"abano\",\"abatí\",\"abayado\",\"abarbetar\",\"abarca\",\n",
    "         \"abanto\",\"abarajar\",\"abaratamiento\",\"abaratar\",\"abarañar\",\"abarbechar\",\n",
    "         \"abarcable\",\"abarcado\",\"abarcador\",\"abarcadura\",\"abarcamiento\",\"abarcar\",\n",
    "         \"abareque\",\"abaritonado\",\"abarloar\",\"abarquero\",\"abarquillado\",\n",
    "         \"abarquillamiento\",\"abarquillar\",\"abarcuzar\",\"abarcón\",\"abarrajar\",\n",
    "         \"abarracar\",\"abarrado\",\"abarraganamiento\",\"abarraganarse\",\"abarrajado\",\n",
    "         \"abarramiento\",\"abarrancadero\",\"abarrancamiento\",\"abarrancar\",\"abarrar\",\n",
    "         \"abarrenar\",\"abarrer\",\"abarrisco\",\"abarrotar\",\"abarrote\",\"abarrotero\",\n",
    "         \"abarrotería\",\"abarse\",\"abarraz\",\"abarredera\",\"abasto\",\"abasí\",\n",
    "         \"abastadamente\",\"abastamiento\",\"abastante\",\"abastanza\",\"abastar\",\n",
    "         \"abastecer\",\"abastecimiento\",\"abastero\",\"abastimiento\",\"abastionar\",\n",
    "         \"abatanado\",\"abatanar\",\"abatatamiento\",\"abatatar\",\"abate\",\"abatible\",\n",
    "         \"abatido\",\"abatidura\",\"abatimiento\",\"abatir\",\"abatismo\",\"abatojar\",\n",
    "         \"abañador\",\"abañadura\",\"abañar\",\"abderitano\",\"abdicación\",\"abdicar\",\n",
    "         \"abdicativamente\",\"abejonear\",\"abellacado\",\"abellacado\",\"abazón\",\n",
    "         \"abdicativo\",\"abdomen\",\"abdominal\",\"abducción\",\"abductor\",\"abecedario\",\n",
    "         \"abedul\",\"abeja\",\"abejar\",\"abejarrón\",\"abejaruco\",\"abejear\",\"abejero\",\n",
    "         \"abejoneo\",\"abejorrear\",\"abejorreo\",\"abejorro\",\"abejuno\",\"abejón\",\"abeldar\",\n",
    "         \"abellacar\",\"abellota\",\"abellotado\",\"abelmosco\",\"abemoladamente\",\"abemolar\",\n",
    "         \"abencerraje\",\"abenuz\",\"aberenjenado\",\"aberración\",\"aberrante\",\"aberrar\",\n",
    "         \"abastardar\",\"abastecedor\",\"abatidero\"]\n",
    "\n",
    "print(list(map(invertirTexto, textos)))"
   ]
  },
  {
   "cell_type": "markdown",
   "metadata": {},
   "source": [
    "## Pregunta 3\n",
    "\n",
    "Diseñe una funcion que reciba un número y retorne una lista con los números primos anteriores a él. Incluya un parámetro opcional que en caso de ser `True` imprima el número de divisores de cada número. Llame a esta función `listaPrimos`\n",
    "\n",
    "```python\n",
    "In: listaPrimos(10, imprimir=False)\n",
    "Out: [2, 3, 5, 7]\n",
    "```\n",
    "\n",
    "```python\n",
    "\n",
    "In: listaPrimos(10, imprimir=True)\n",
    "    \n",
    "El número 2 tiene 2 divisores\n",
    "El número 3 tiene 2 divisores\n",
    "El número 4 tiene 3 divisores\n",
    "El número 5 tiene 2 divisores\n",
    "El número 6 tiene 4 divisores\n",
    "El número 7 tiene 2 divisores\n",
    "El número 8 tiene 4 divisores\n",
    "El número 9 tiene 3 divisores\n",
    "El número 10 tiene 4 divisores\n",
    "\n",
    "Out : [2, 3, 5, 7]\n",
    "```\n",
    "\n"
   ]
  },
  {
   "cell_type": "code",
   "execution_count": 2,
   "metadata": {},
   "outputs": [
    {
     "name": "stdout",
     "output_type": "stream",
     "text": [
      "El número 2 tiene 2 divisores\n",
      "El número 3 tiene 2 divisores\n",
      "El número 4 tiene 3 divisores\n",
      "El número 5 tiene 2 divisores\n",
      "El número 6 tiene 4 divisores\n",
      "El número 7 tiene 2 divisores\n",
      "El número 8 tiene 4 divisores\n",
      "El número 9 tiene 3 divisores\n",
      "El número 10 tiene 4 divisores\n"
     ]
    }
   ],
   "source": [
    "def listaPrimos(n, imprimir=False):\n",
    "    listaPrimos=[]\n",
    "    for i in range(2,n+1):\n",
    "        divisores=[1,i]\n",
    "        for j in range(2,i):\n",
    "            if(i%j==0):\n",
    "                divisores+=[j]\n",
    "        \n",
    "        if len(divisores)==2:\n",
    "            listaPrimos+=[i]\n",
    "            \n",
    "        if imprimir:\n",
    "            print('El número', i, 'tiene', len(divisores), 'divisores') \n",
    "        \n",
    "    return(listaPrimos)\n",
    "    \n",
    "Resultado = listaPrimos(10, imprimir=True)"
   ]
  },
  {
   "cell_type": "code",
   "execution_count": 3,
   "metadata": {},
   "outputs": [
    {
     "data": {
      "text/plain": [
       "[2, 3, 5, 7]"
      ]
     },
     "execution_count": 3,
     "metadata": {},
     "output_type": "execute_result"
    }
   ],
   "source": [
    "Resultado"
   ]
  },
  {
   "cell_type": "markdown",
   "metadata": {},
   "source": [
    "# Punto 4:\n",
    "Punto 4:\n",
    "Escriba una función llamada `palabra_mas_larga` que reciba una cadena de caracteres que retorne una tupla con la palabra más larga y su longitud.\n",
    "\n",
    "E.g. 'Eso es queso' -> ('queso', 5)    La palabra más larga es queso y tiene 5 caracteres."
   ]
  },
  {
   "cell_type": "code",
   "execution_count": 1,
   "metadata": {},
   "outputs": [
    {
     "data": {
      "text/plain": [
       "('queso', 5)"
      ]
     },
     "execution_count": 1,
     "metadata": {},
     "output_type": "execute_result"
    }
   ],
   "source": [
    "def palabra_mas_larga(words):  \n",
    "    lista=words.split(' ')\n",
    "    tuples=[]\n",
    "    for n in lista:  \n",
    "        tuples.append((n, len(n)))  \n",
    "    \n",
    "    word_len=[]\n",
    "    for i in tuples:\n",
    "        word_len.append(i[1])\n",
    "    index_max=word_len.index(max(word_len))\n",
    "    return tuples[index_max]\n",
    "\n",
    "palabra_mas_larga(words='queso')"
   ]
  },
  {
   "cell_type": "code",
   "execution_count": 3,
   "metadata": {},
   "outputs": [
    {
     "data": {
      "text/plain": [
       "('palabra', 7)"
      ]
     },
     "execution_count": 3,
     "metadata": {},
     "output_type": "execute_result"
    }
   ],
   "source": [
    "palabra_mas_larga(words='queso palabra')"
   ]
  },
  {
   "cell_type": "markdown",
   "metadata": {},
   "source": [
    "## Pregunta 5\n",
    "Defina una función llamada `mezclarPalabras` que reciba dos `strings` y construya dos nuevos `strings` que sean la mezcla de los 2 `strings` originales intercalando letras. Importante, solo mezclar hasta la longuitud de la palabra más corta. \n",
    "\n",
    "Finalmente, la función debe retornar una lista con las nuevas palabras. Por ejemplo, \n",
    "\n",
    "```python\n",
    "texto_1='prueba'\n",
    "texto_2='textos'\n",
    "\n",
    "In: mezclarPalabras(texto_1,texto_2)\n",
    "Out: ['peutbs', 'trxeoa']\n",
    "```\n",
    "\n",
    "```python\n",
    "texto_3='aaaaaaaaaa'\n",
    "texto_4='bbbb'\n",
    "\n",
    "In: mezclarPalabras(texto_3,texto_4)\n",
    "Out: ['abab', 'baba']\n",
    "```\n"
   ]
  },
  {
   "cell_type": "code",
   "execution_count": 5,
   "metadata": {},
   "outputs": [
    {
     "data": {
      "text/plain": [
       "['peutbs', 'trxeoa']"
      ]
     },
     "execution_count": 5,
     "metadata": {},
     "output_type": "execute_result"
    }
   ],
   "source": [
    "texto_1='prueba'\n",
    "texto_2='textos'\n",
    "\n",
    "def mezclarPalabras(texto_1, texto_2):\n",
    "    resultado_1=''\n",
    "    resultado_2=''\n",
    "    n=min(len(texto_1), len(texto_2))\n",
    "    for i in range(n):\n",
    "        if(i%2==0):\n",
    "            resultado_1+=texto_1[i]\n",
    "            resultado_2+=texto_2[i]\n",
    "        else: \n",
    "            resultado_1+=texto_2[i]\n",
    "            resultado_2+=texto_1[i]\n",
    "    return([resultado_1, resultado_2])\n",
    "\n",
    "mezclarPalabras(texto_1,texto_2)"
   ]
  }
 ],
 "metadata": {
  "kernelspec": {
   "display_name": "Python 3 (ipykernel)",
   "language": "python",
   "name": "python3"
  },
  "language_info": {
   "codemirror_mode": {
    "name": "ipython",
    "version": 3
   },
   "file_extension": ".py",
   "mimetype": "text/x-python",
   "name": "python",
   "nbconvert_exporter": "python",
   "pygments_lexer": "ipython3",
   "version": "3.7.8"
  }
 },
 "nbformat": 4,
 "nbformat_minor": 4
}
