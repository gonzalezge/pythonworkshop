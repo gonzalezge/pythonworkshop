{
 "cells": [
  {
   "cell_type": "markdown",
   "metadata": {},
   "source": [
    "<img src=\"https://raw.githubusercontent.com/paular143/images_notebooks/master/logo-sin-nombre.png\" alt=\"Universidad de Los Andes\" style=\"width: 90px;\" align=\"left\" frameborder=\"300\"/>\n",
    "\n",
    "**UNIVERSIDAD DE LOS ANDES** <br>\n",
    "**FACULTAD DE ECONOMÍA** <br>\n",
    "**Taller de Python** <br>\n",
    "**PROFESOR:** Germán González <br><br>\n"
   ]
  },
  {
   "cell_type": "markdown",
   "metadata": {},
   "source": [
    "# Clase 10 Más exploración y Visualización de datos"
   ]
  },
  {
   "cell_type": "markdown",
   "metadata": {},
   "source": [
    "**El día de hoy trabajaremos con las bases de datos de E-commerce de ventas de [Olist](https://olist.com/) en Brasil. Acceda esta base de datos se encuentra en [Kaggle](https://www.kaggle.com/olistbr/brazilian-ecommerce).**"
   ]
  },
  {
   "cell_type": "markdown",
   "metadata": {},
   "source": [
    "### Manipulación\n",
    "1. Importe la base de datos olist_customers_dataset.csv para obtener los directorios de clientes.\n",
    "2. Importe la base de datos olist_geolocation_dataset.csv para obtener la información espacial de [Brasil](https://es.wikipedia.org/wiki/Geograf%C3%ADa_de_Brasil#/media/Archivo:Brasil_administrative_map_ES.png).\n",
    "3. Importe la base de datos olist_order_payments_dataset.csv para obtener información sobre los pagos.\n",
    "4. Importe la base de datos olist_order_items_dataset.csv para obtener la información de los productos vendidos.\n",
    "5. Importe la base de datos olist_products_dataset.csv para obtener información de los productos.\n",
    "6. Importe la base de datos olist_sellers_dataset.csv para obtener la información de los vendedores.\n",
    "7. Importe la base de datos olist_orders_dataset.csv para obtener información de las entregas.\n",
    "8. Importe la base de datos product_category_name_translation.csv para traducir a inglés los tipos de productos\n",
    "\n",
    "Explore que variables y que tamaño tienen las bases anteriores. Use los métodos ___unique()___, ___nunique()___ e ___isin()___ para explorar las bases y su relación con otras."
   ]
  },
  {
   "cell_type": "markdown",
   "metadata": {},
   "source": [
    "## Estadísticas Descriptivas\n",
    "1. ¿Qué producto fue el más vendido? ¿Qué tipo de producto es?"
   ]
  },
  {
   "cell_type": "code",
   "execution_count": null,
   "metadata": {},
   "outputs": [],
   "source": []
  },
  {
   "cell_type": "markdown",
   "metadata": {},
   "source": [
    "2. Pegue a la tabla de productos la traducción"
   ]
  },
  {
   "cell_type": "code",
   "execution_count": null,
   "metadata": {},
   "outputs": [],
   "source": []
  },
  {
   "cell_type": "markdown",
   "metadata": {},
   "source": [
    "3. ¿Cuánto se gastó en promedio por compra?"
   ]
  },
  {
   "cell_type": "code",
   "execution_count": null,
   "metadata": {},
   "outputs": [],
   "source": []
  },
  {
   "cell_type": "markdown",
   "metadata": {},
   "source": [
    "4. ¿Cómo se distribuyo el tipo de pago? [(PIE)](https://matplotlib.org/3.1.0/api/_as_gen/matplotlib.pyplot.pie.html)"
   ]
  },
  {
   "cell_type": "code",
   "execution_count": null,
   "metadata": {},
   "outputs": [],
   "source": []
  },
  {
   "cell_type": "markdown",
   "metadata": {},
   "source": [
    "5. ¿Cuánto se gastó en promedio por tipo de producto? [(Barras)](https://matplotlib.org/3.1.1/api/_as_gen/matplotlib.pyplot.bar.html)"
   ]
  },
  {
   "cell_type": "code",
   "execution_count": null,
   "metadata": {},
   "outputs": [],
   "source": []
  },
  {
   "cell_type": "markdown",
   "metadata": {},
   "source": [
    "6. ¿Cómo se distribuye el volumen de ventas por tipo de producto?"
   ]
  },
  {
   "cell_type": "code",
   "execution_count": null,
   "metadata": {},
   "outputs": [],
   "source": []
  }
 ],
 "metadata": {
  "kernelspec": {
   "display_name": "Python 3 (ipykernel)",
   "language": "python",
   "name": "python3"
  },
  "language_info": {
   "codemirror_mode": {
    "name": "ipython",
    "version": 3
   },
   "file_extension": ".py",
   "mimetype": "text/x-python",
   "name": "python",
   "nbconvert_exporter": "python",
   "pygments_lexer": "ipython3",
   "version": "3.7.8"
  }
 },
 "nbformat": 4,
 "nbformat_minor": 4
}
