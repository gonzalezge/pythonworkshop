{
 "cells": [
  {
   "cell_type": "markdown",
   "metadata": {},
   "source": [
    "<img src=\"https://raw.githubusercontent.com/paular143/images_notebooks/master/logo-sin-nombre.png\" alt=\"Universidad de Los Andes\" style=\"width: 90px;\" align=\"left\" frameborder=\"300\"/>\n",
    "\n",
    "**UNIVERSIDAD DE LOS ANDES** <br>\n",
    "**FACULTAD DE ECONOMÍA** <br>\n",
    "**Taller de Python** <br>\n",
    "**PROFESOR:** Germán González <br><br>"
   ]
  },
  {
   "cell_type": "markdown",
   "metadata": {},
   "source": [
    "# Clase 2 y 3: Condicionales, Loops y Funciones\n",
    "En esta clase se cubren los siguientes temas:\n",
    "- Condicionales: `if`, `elif`, `else`\n",
    "- Numpy\n",
    "- Loops: `for`, `while`\n",
    "- Listas integradas con loops\n",
    "- Funciones"
   ]
  },
  {
   "cell_type": "markdown",
   "metadata": {},
   "source": [
    "# Condicionales"
   ]
  },
  {
   "cell_type": "markdown",
   "metadata": {},
   "source": [
    "## El condicional (if)\n",
    "\n",
    "Es quizá la estructura de control más utilizada. A continuación presentamos un sencillo ejemplo para observar cómo es su sintaxis en Python:\n",
    "\n",
    "```python \n",
    "if condicion (booleano):\n",
    "    instruccion\n",
    "```"
   ]
  },
  {
   "cell_type": "code",
   "execution_count": 12,
   "metadata": {},
   "outputs": [
    {
     "name": "stdout",
     "output_type": "stream",
     "text": [
      "el numero 70 es mayor a 50\n"
     ]
    }
   ],
   "source": [
    "a = 70\n",
    "b = 50\n",
    "\n",
    "if a>b:\n",
    "    print('el numero', a, 'es mayor a', b)\n"
   ]
  },
  {
   "cell_type": "code",
   "execution_count": 9,
   "metadata": {},
   "outputs": [
    {
     "data": {
      "text/plain": [
       "False"
      ]
     },
     "execution_count": 9,
     "metadata": {},
     "output_type": "execute_result"
    }
   ],
   "source": [
    "a>b"
   ]
  },
  {
   "cell_type": "markdown",
   "metadata": {},
   "source": [
    "## else\n",
    "Cuando queremos que se haga una instrucción si el condicional es verdadero y otra en caso contrario debemos usar el else (de lo contrario). La sintaxis es:\n",
    "\n",
    "```python\n",
    "if condicion (booleano):\n",
    "    instruccion\n",
    "else: \n",
    "    instruccion si la condicion no se cumple\n",
    "```"
   ]
  },
  {
   "cell_type": "code",
   "execution_count": 21,
   "metadata": {},
   "outputs": [
    {
     "name": "stdout",
     "output_type": "stream",
     "text": [
      "el numero 10 es menor o igual a 50\n"
     ]
    }
   ],
   "source": [
    "if a>b: \n",
    "    print('el numero', a, 'es mayor a', b)\n",
    "else: \n",
    "    print('el numero', a,'es menor o igual a',b)"
   ]
  },
  {
   "cell_type": "markdown",
   "metadata": {},
   "source": [
    "## elif\n",
    "Cuando queremos que se haga una instrucción dependiendo de multiples condiciones (verificando cada una en cadena) si el condicional es verdadero y otra en caso contrario debemos usar el else (de lo contrario). La sintaxis es:\n",
    "\n",
    "```python\n",
    "if condicion1 (booleano):\n",
    "    instruccion si se cumple condicion1\n",
    "elif condicion2 (booleano):\n",
    "    instruccion si se cumple condicion2\n",
    "else: \n",
    "    instruccion si no se cumple ninguna condicion anterior\n",
    "```"
   ]
  },
  {
   "cell_type": "code",
   "execution_count": 136,
   "metadata": {},
   "outputs": [
    {
     "name": "stdout",
     "output_type": "stream",
     "text": [
      "el numero 10 es menor a 11\n"
     ]
    }
   ],
   "source": [
    "a = 10\n",
    "b = 11\n",
    "if a>b:\n",
    "    print('el numero', a, 'es mayor a', b)\n",
    "elif a<b:\n",
    "    print('el numero', a, 'es menor a', b)\n",
    "else:\n",
    "    print('el numero', a, 'es igual a', b)"
   ]
  },
  {
   "cell_type": "markdown",
   "metadata": {},
   "source": [
    "## Otro ejemplo de condicional"
   ]
  },
  {
   "cell_type": "code",
   "execution_count": 22,
   "metadata": {},
   "outputs": [
    {
     "name": "stdout",
     "output_type": "stream",
     "text": [
      "se ha encontrado un error\n"
     ]
    }
   ],
   "source": [
    "try: \n",
    "    a = 1 \n",
    "    a = 2 \n",
    "    c = 'c'\n",
    "    a + c\n",
    "    \n",
    "except: \n",
    "    print('se ha encontrado un error')\n",
    "    "
   ]
  },
  {
   "cell_type": "code",
   "execution_count": 31,
   "metadata": {},
   "outputs": [],
   "source": [
    "modo_transporte = 'Tren'\n",
    "#edad = 30"
   ]
  },
  {
   "cell_type": "code",
   "execution_count": 49,
   "metadata": {},
   "outputs": [
    {
     "data": {
      "text/plain": [
       "True"
      ]
     },
     "execution_count": 49,
     "metadata": {},
     "output_type": "execute_result"
    }
   ],
   "source": [
    "edad = 30\n"
   ]
  },
  {
   "cell_type": "code",
   "execution_count": 32,
   "metadata": {},
   "outputs": [
    {
     "data": {
      "text/plain": [
       "True"
      ]
     },
     "execution_count": 32,
     "metadata": {},
     "output_type": "execute_result"
    }
   ],
   "source": [
    "((modo_transporte=='Tren') | ((edad==30) & (type(edad) == int)))"
   ]
  },
  {
   "cell_type": "code",
   "execution_count": null,
   "metadata": {},
   "outputs": [],
   "source": [
    "| --> or \n",
    "& --> and \n",
    "\n"
   ]
  },
  {
   "cell_type": "code",
   "execution_count": 41,
   "metadata": {},
   "outputs": [
    {
     "data": {
      "text/plain": [
       "True"
      ]
     },
     "execution_count": 41,
     "metadata": {},
     "output_type": "execute_result"
    }
   ],
   "source": [
    "True or True"
   ]
  },
  {
   "cell_type": "code",
   "execution_count": 42,
   "metadata": {},
   "outputs": [
    {
     "data": {
      "text/plain": [
       "True"
      ]
     },
     "execution_count": 42,
     "metadata": {},
     "output_type": "execute_result"
    }
   ],
   "source": [
    "True | False"
   ]
  },
  {
   "cell_type": "code",
   "execution_count": 43,
   "metadata": {},
   "outputs": [
    {
     "data": {
      "text/plain": [
       "True"
      ]
     },
     "execution_count": 43,
     "metadata": {},
     "output_type": "execute_result"
    }
   ],
   "source": [
    "True | False | False"
   ]
  },
  {
   "cell_type": "markdown",
   "metadata": {},
   "source": [
    "Algunos de los operadores con los que se pueden hacer comparaciones al momento de usar en `if` son:\n",
    "\n",
    "| Operador | Resultado\n",
    "| -------- | ---------\n",
    "|   ==     | Igualdad\n",
    "|   !=     | No es igual        \n",
    "|   <      | Menor que\n",
    "|   >      | Mayor que\n",
    "|   <=     | Menor o igual\n",
    "|   >=     | Mayor o igual\n",
    "|   not    | Niega una condición\n",
    "|   in     | Verifica si un elemento está en una lista\n",
    "|   and    | Verifica si dos condiciones se cumplen\n",
    "|   or     | Verifica si se cumple al menos una condición\n",
    "|   is     | Verifica si un objeto es igual a otro\n",
    "\n",
    "A excepción de `in` y `not`, todos los demás operadores son similares a los usados en otros lenguajes de programación."
   ]
  },
  {
   "cell_type": "code",
   "execution_count": 51,
   "metadata": {},
   "outputs": [
    {
     "data": {
      "text/plain": [
       "True"
      ]
     },
     "execution_count": 51,
     "metadata": {},
     "output_type": "execute_result"
    }
   ],
   "source": [
    "## a is 11 \n",
    "a = 11\n",
    "b = 11\n",
    "\n",
    "a is b\n",
    "a == 11 \n"
   ]
  },
  {
   "cell_type": "markdown",
   "metadata": {},
   "source": [
    "## Pertenecer a una lista"
   ]
  },
  {
   "cell_type": "code",
   "execution_count": 57,
   "metadata": {},
   "outputs": [
    {
     "data": {
      "text/plain": [
       "True"
      ]
     },
     "execution_count": 57,
     "metadata": {},
     "output_type": "execute_result"
    }
   ],
   "source": [
    "'german' in ['german','daniel', 'Mariana']"
   ]
  },
  {
   "cell_type": "markdown",
   "metadata": {},
   "source": [
    "### Numeros aleatorios con Numpy"
   ]
  },
  {
   "cell_type": "code",
   "execution_count": 62,
   "metadata": {},
   "outputs": [
    {
     "name": "stdout",
     "output_type": "stream",
     "text": [
      "Requirement already satisfied: numpy in /Users/germangonzalez/.pyenv/versions/3.7.8/envs/motus/lib/python3.7/site-packages (1.19.5)\n",
      "Requirement already satisfied: numpy in /Users/germangonzalez/.pyenv/versions/3.7.8/envs/motus/lib/python3.7/site-packages (1.19.5)\n"
     ]
    }
   ],
   "source": [
    "!pip3 install numpy\n",
    "!pip install numpy"
   ]
  },
  {
   "cell_type": "code",
   "execution_count": 66,
   "metadata": {},
   "outputs": [],
   "source": [
    "import numpy as np"
   ]
  },
  {
   "cell_type": "code",
   "execution_count": 67,
   "metadata": {},
   "outputs": [],
   "source": [
    "a = np.random.randint(0, 10, 5)"
   ]
  },
  {
   "cell_type": "markdown",
   "metadata": {},
   "source": [
    "1. Construya un condicional **if** que retorne un mensaje si un entero aleatorio entre 0 y 10 es mayor a 5\n",
    "2. Construya un condicional **else**. Retorne un mensaje si un entero aleatorio entre 0 y 10 es mayor a 5, en caso de no serlo también despliegue un mensaje especificándolo\n",
    "3. Construya un condicional **elif**. Retorne un mensaje si un entero aleatorio entre 0 y 10 es mayor a 5 pero menor a 8. Retorne otro mensaje si es mayor o igual 8, y otro más si es menor o igual a 5."
   ]
  },
  {
   "cell_type": "code",
   "execution_count": 94,
   "metadata": {},
   "outputs": [
    {
     "name": "stdout",
     "output_type": "stream",
     "text": [
      "8\n",
      "el numero 8 es mayor o igual a 8\n",
      "GANADOR\n"
     ]
    }
   ],
   "source": [
    "aleatorio = np.random.randint(0,11)\n",
    "print(aleatorio)\n",
    "if aleatorio >= 8:\n",
    "    print(f'el numero {aleatorio} es mayor o igual a 8')\n",
    "    if aleatorio == 8:\n",
    "        print('GANADOR')\n",
    "elif aleatorio > 5:    \n",
    "    print(f'el numero {aleatorio} es mayor a 5')\n",
    "else:\n",
    "    print(f'el numero {aleatorio} es menor o igual a 5')"
   ]
  },
  {
   "cell_type": "markdown",
   "metadata": {},
   "source": [
    "# Funciones\n",
    "\n",
    "Como en cualquier otro lenguaje, en *Python* también es posible definir funciones, es decir, secuencias de enunciados que reciben ciertos datos, ejecutan algunas operaciones sobre ellos y devuelven un resultado.\n",
    "\n",
    "Para definir una función se usa la palabra clave `def`, y el valor que va a retornar siempre debe ser precedido por un `return`. La sintaxis de una función es como se ve a continuación::\n",
    "\n",
    "```python\n",
    "def NOMBRE(LISTA DE ARGUMENTOS):\n",
    "    ENUNCIADOS\n",
    "    return VALOR\n",
    "```\n",
    "\n",
    "ó\n",
    "\n",
    "```python\n",
    "def NOMBRE(LISTA DE ARGUMENTOS):\n",
    "    ENUNCIADOS\n",
    "    print(VALOR)\n",
    "```\n",
    "\n",
    "La línea que contiene el `return` (o `print`) es opcional, pues no todas las funciones deben retornar algo. Por ejemplo, hay algunas que sólo modifican los valores de ciertas variables, por lo que no necesitan retornar o imprimir ningún valor."
   ]
  },
  {
   "cell_type": "markdown",
   "metadata": {},
   "source": [
    "**Nota**:\n",
    "\n",
    "Es muy importante tener en cuenta que los enunciados que hacen parte de la función deben estar **cuatro espacios** por dentro del encabezado. En otras palabras, todo lo que esté indentado con cuatro espacios por dentro de la definición, pertenece al cuerpo de la función, ya que en Python la indentación es lo único que define la forma en que se agrupa el código. Sólo cuando el nivel de indentación se retorne al punto en que se escribió el primer `def` se considera que ha terminado la definición de la función."
   ]
  },
  {
   "cell_type": "markdown",
   "metadata": {},
   "source": [
    "Un ejemplo muy sencillo de una función que toma un argumento `x` y retorna este argumento elevado al cuadrado es:"
   ]
  },
  {
   "cell_type": "code",
   "execution_count": 124,
   "metadata": {},
   "outputs": [
    {
     "name": "stdout",
     "output_type": "stream",
     "text": [
      "German Gonzalez (26)\n"
     ]
    },
    {
     "data": {
      "text/plain": [
       "'German Gonzalez (26)'"
      ]
     },
     "execution_count": 124,
     "metadata": {},
     "output_type": "execute_result"
    }
   ],
   "source": [
    "def ConsolidarNombre(Nombre,Apellido,Edad):\n",
    "    #### ------ Operación -------- ####\n",
    "    Edad\n",
    "    Resultado = Nombre + ' ' + Apellido + ' (' + str(Edad) + ')'\n",
    "    print(Resultado)\n",
    "    return(Resultado)\n",
    "    \n",
    "    \n",
    "ConsolidarNombre(Nombre='German',Apellido='Gonzalez', Edad = 26)"
   ]
  },
  {
   "cell_type": "code",
   "execution_count": null,
   "metadata": {},
   "outputs": [],
   "source": []
  },
  {
   "cell_type": "code",
   "execution_count": 125,
   "metadata": {},
   "outputs": [],
   "source": [
    "def cuadrado(x):\n",
    "    return(x**2)"
   ]
  },
  {
   "cell_type": "code",
   "execution_count": 126,
   "metadata": {},
   "outputs": [],
   "source": [
    "a = cuadrado(4)"
   ]
  },
  {
   "cell_type": "code",
   "execution_count": 128,
   "metadata": {},
   "outputs": [
    {
     "data": {
      "text/plain": [
       "576"
      ]
     },
     "execution_count": 128,
     "metadata": {},
     "output_type": "execute_result"
    }
   ],
   "source": [
    "cuadrado(24)"
   ]
  },
  {
   "cell_type": "code",
   "execution_count": 132,
   "metadata": {},
   "outputs": [],
   "source": [
    "def cuadrado_print(x):\n",
    "    print(x**2)"
   ]
  },
  {
   "cell_type": "code",
   "execution_count": 133,
   "metadata": {},
   "outputs": [
    {
     "name": "stdout",
     "output_type": "stream",
     "text": [
      "16\n"
     ]
    }
   ],
   "source": [
    "b = cuadrado_print(4)"
   ]
  },
  {
   "cell_type": "code",
   "execution_count": 134,
   "metadata": {},
   "outputs": [],
   "source": [
    "b"
   ]
  },
  {
   "cell_type": "markdown",
   "metadata": {},
   "source": [
    "Podemos comprobar que la función esta operando correctamente al pasarle varios argumentos y ver los resultados que retorna:"
   ]
  },
  {
   "cell_type": "markdown",
   "metadata": {},
   "source": [
    "### Ejercicio\n",
    "Escriba una funcion que reciba 2 numeros, los compare e imprima un texto con el resultado de la comparacion. Ejemplo:\n",
    "    \n",
    "```python \n",
    "comparacion_numeros(2, 5) \n",
    "``` \n",
    "debe imprimir \"2 es menor a 5\"\n"
   ]
  },
  {
   "cell_type": "code",
   "execution_count": 139,
   "metadata": {},
   "outputs": [],
   "source": [
    "def comparacion_numeros(x,y):\n",
    "    if x<y:\n",
    "        print(x,'es menor a',y)\n",
    "    elif x>y:\n",
    "        print(f'{x} es mayor a {y}')\n",
    "    else:\n",
    "        print(f'{x} es igual a {y}')"
   ]
  },
  {
   "cell_type": "code",
   "execution_count": 140,
   "metadata": {},
   "outputs": [
    {
     "name": "stdout",
     "output_type": "stream",
     "text": [
      "1 es menor a 10\n"
     ]
    }
   ],
   "source": [
    "comparacion_numeros(x=1,y=10)"
   ]
  },
  {
   "cell_type": "code",
   "execution_count": 142,
   "metadata": {},
   "outputs": [
    {
     "name": "stdout",
     "output_type": "stream",
     "text": [
      "1 es menor a 10\n"
     ]
    }
   ],
   "source": [
    "comparacion_numeros(1,10)"
   ]
  },
  {
   "cell_type": "markdown",
   "metadata": {},
   "source": [
    "En el último caso vemos que si intentamos pasarle a la función un argumento que no puede ser procesado, Python simplemente retorna un error."
   ]
  },
  {
   "cell_type": "markdown",
   "metadata": {},
   "source": [
    "## Parámetros opcionales"
   ]
  },
  {
   "cell_type": "markdown",
   "metadata": {},
   "source": [
    "En ocasiones, se desea que una función cuente con unos párametros por defecto. Por ejemplo si se desean imprimir mensajes de ejecución en una función, u otro valor númerico que cuenta con una inicialización específica para una rutina de cálculo, estos párametros se definen empleando la sintaxis ``arg=value``, dónde ``arg`` es el nombre del argumento y ``value``, el valor de inicialización por defecto. \n",
    "\n",
    "A continuación se presenta un ejemplo de la función sum con argumentos opcionales."
   ]
  },
  {
   "cell_type": "code",
   "execution_count": 13,
   "metadata": {},
   "outputs": [],
   "source": [
    "def suma(x,y,imprimir = True):\n",
    "    if imprimir == True:\n",
    "        print(f'voy a sumar {x} y {y}')\n",
    "        \n",
    "    return(x+y)"
   ]
  },
  {
   "cell_type": "code",
   "execution_count": 14,
   "metadata": {},
   "outputs": [
    {
     "name": "stdout",
     "output_type": "stream",
     "text": [
      "voy a sumar 10 y 2\n"
     ]
    },
    {
     "data": {
      "text/plain": [
       "12"
      ]
     },
     "execution_count": 14,
     "metadata": {},
     "output_type": "execute_result"
    }
   ],
   "source": [
    "suma(10,2)"
   ]
  },
  {
   "cell_type": "markdown",
   "metadata": {},
   "source": [
    "Como es posible apreciar, la función recibe un parámetro opcional ``verbose``, el cual permite imprimir los argumentos a sumar, ahora procedemos a invocar esta función, primero sin el parámetro opcional:"
   ]
  },
  {
   "cell_type": "markdown",
   "metadata": {},
   "source": [
    "Ahora, podemos cambiar el valor del parámetro opcional con el fin de observar los argumentos a sumar:"
   ]
  },
  {
   "cell_type": "code",
   "execution_count": 151,
   "metadata": {},
   "outputs": [
    {
     "name": "stdout",
     "output_type": "stream",
     "text": [
      "voy a sumar 10 y 2\n"
     ]
    },
    {
     "data": {
      "text/plain": [
       "12"
      ]
     },
     "execution_count": 151,
     "metadata": {},
     "output_type": "execute_result"
    }
   ],
   "source": [
    "suma(10,2, imprimir=True)"
   ]
  },
  {
   "cell_type": "markdown",
   "metadata": {},
   "source": [
    "Es posible definir múltiples argumentos opcionales, como por ejemplo en la siguiente función que imprime el nombre de una persona:"
   ]
  },
  {
   "cell_type": "code",
   "execution_count": 45,
   "metadata": {},
   "outputs": [
    {
     "name": "stdout",
     "output_type": "stream",
     "text": [
      "Mi nombre es german eduardo gonzalez gonzalez\n"
     ]
    }
   ],
   "source": [
    "def imprimir_nombre(primer_nombre, primer_apellido, segundo_nombre='', segundo_apellido=''):\n",
    "    \n",
    "    print(f'Mi nombre es {primer_nombre} {segundo_nombre} {primer_apellido} {segundo_apellido}')\n",
    "    \n",
    "    "
   ]
  },
  {
   "cell_type": "code",
   "execution_count": 47,
   "metadata": {},
   "outputs": [],
   "source": [
    "segundo_nombre"
   ]
  },
  {
   "cell_type": "code",
   "execution_count": 16,
   "metadata": {},
   "outputs": [
    {
     "name": "stdout",
     "output_type": "stream",
     "text": [
      "Mi nombre es German Eduardo Gonzalez \n"
     ]
    }
   ],
   "source": [
    "imprimir_nombre(primer_nombre='German',segundo_nombre='Eduardo',primer_apellido='Gonzalez')"
   ]
  },
  {
   "cell_type": "markdown",
   "metadata": {},
   "source": [
    "Ahora veamos los distintos resultados de esta función"
   ]
  },
  {
   "cell_type": "code",
   "execution_count": 154,
   "metadata": {},
   "outputs": [
    {
     "name": "stdout",
     "output_type": "stream",
     "text": [
      "Mi nombre es German  Gonzalez \n"
     ]
    }
   ],
   "source": [
    "imprimir_nombre(primer_nombre='German',primer_apellido='Gonzalez')"
   ]
  },
  {
   "cell_type": "code",
   "execution_count": 42,
   "metadata": {},
   "outputs": [
    {
     "data": {
      "text/plain": [
       "[3, 9, 6, 20]"
      ]
     },
     "execution_count": 43,
     "metadata": {},
     "output_type": "execute_result"
    }
   ],
   "source": [
    "li = [3,9,6]\n",
    "num = 20\n",
    "def agregar_nuevo(li,num):\n",
    "    ### Caso 1 si esta\n",
    "    if(num in li): \n",
    "        resultado = li\n",
    "    ### Caso 2 si no esta \n",
    "    else: \n",
    "        resultado = li+[num]\n",
    "\n",
    "    return resultado"
   ]
  },
  {
   "cell_type": "code",
   "execution_count": 39,
   "metadata": {},
   "outputs": [
    {
     "data": {
      "text/plain": [
       "[4, 5, 6, 7, 8, 10]"
      ]
     },
     "execution_count": 39,
     "metadata": {},
     "output_type": "execute_result"
    }
   ],
   "source": [
    "agregar_nuevo(li=[4,5,6,7,8],num=10)"
   ]
  },
  {
   "cell_type": "markdown",
   "metadata": {},
   "source": [
    "### Problema 1\n",
    "\n",
    "Definir una función `agregar_nuevo(li, x)` que reciba una lista y un elemento, y retorne una nueva lista en la que esté añadido el elemento, pero sólo si éste **no** hace parte de la lista original (Tomado de *Introducción a Mathematica* del Prof. Jurgen Tischer).\n",
    "\n",
    "Por ejemplo, algunos resultados de esta función son:\n",
    "\n",
    "```python\n",
    "agregar_nuevo([3,9,6], 11)\n",
    "[3, 9, 6, 11]\n",
    "```\n",
    "\n",
    "```python\n",
    "agregar_nuevo([3,9,6], 9)\n",
    "[3, 9, 6]\n",
    "```"
   ]
  },
  {
   "cell_type": "code",
   "execution_count": null,
   "metadata": {},
   "outputs": [],
   "source": [
    "def agregar_nuevo(li,num):\n",
    "    if(num in li):\n",
    "        return(li)\n",
    "    else:\n",
    "        \n",
    "        return(li+[num])"
   ]
  },
  {
   "cell_type": "markdown",
   "metadata": {},
   "source": [
    "# Ciclos (Loops)"
   ]
  },
  {
   "cell_type": "markdown",
   "metadata": {},
   "source": [
    "## for\n",
    "\n",
    "En Python `for` se utiliza para moverse (o iterar) entre los elementos de una secuencia de datos. Su sintaxis es más sencilla que la usada en C o C++, porque en lugar de utilizar un contador cuyo valor va aumentando o disminuyendo durante el ciclo, se toma una secuencia completa (i.e. una lista, una tupla, o una cadena), y se recorren sus elementos en el orden en que aparecen en ella.\n",
    "\n",
    "Observemos algunos ejemplos:"
   ]
  },
  {
   "cell_type": "code",
   "execution_count": 74,
   "metadata": {},
   "outputs": [],
   "source": [
    "iterable = [[1,2,3,4,5,6],1,2]\n",
    "palabra = 'palabra'"
   ]
  },
  {
   "cell_type": "code",
   "execution_count": 75,
   "metadata": {},
   "outputs": [
    {
     "name": "stdout",
     "output_type": "stream",
     "text": [
      "[1, 2, 3, 4, 5, 6] 6\n"
     ]
    },
    {
     "ename": "TypeError",
     "evalue": "object of type 'int' has no len()",
     "output_type": "error",
     "traceback": [
      "\u001b[0;31m---------------------------------------------------------------------------\u001b[0m",
      "\u001b[0;31mTypeError\u001b[0m                                 Traceback (most recent call last)",
      "\u001b[0;32m/var/folders/29/51qvqyvn5j511ycdc2c41_gh0000gn/T/ipykernel_41746/482530163.py\u001b[0m in \u001b[0;36m<module>\u001b[0;34m\u001b[0m\n\u001b[1;32m      1\u001b[0m \u001b[0;32mfor\u001b[0m \u001b[0mi\u001b[0m \u001b[0;32min\u001b[0m \u001b[0miterable\u001b[0m\u001b[0;34m:\u001b[0m\u001b[0;34m\u001b[0m\u001b[0;34m\u001b[0m\u001b[0m\n\u001b[0;32m----> 2\u001b[0;31m     \u001b[0mprint\u001b[0m\u001b[0;34m(\u001b[0m\u001b[0mi\u001b[0m\u001b[0;34m,\u001b[0m \u001b[0mlen\u001b[0m\u001b[0;34m(\u001b[0m\u001b[0mi\u001b[0m\u001b[0;34m)\u001b[0m\u001b[0;34m)\u001b[0m\u001b[0;34m\u001b[0m\u001b[0;34m\u001b[0m\u001b[0m\n\u001b[0m",
      "\u001b[0;31mTypeError\u001b[0m: object of type 'int' has no len()"
     ]
    }
   ],
   "source": [
    "for i in iterable:\n",
    "    print(i, len(i))"
   ]
  },
  {
   "cell_type": "code",
   "execution_count": 76,
   "metadata": {},
   "outputs": [
    {
     "name": "stdout",
     "output_type": "stream",
     "text": [
      "p\n",
      "a\n",
      "l\n",
      "a\n",
      "b\n",
      "r\n",
      "a\n"
     ]
    }
   ],
   "source": [
    "for letra in palabra:\n",
    "    print(letra)"
   ]
  },
  {
   "cell_type": "markdown",
   "metadata": {},
   "source": [
    "`range` es un comando que se utiliza muy a menudo junto a los ciclos `for`, pues sirve para generar una lista con todos los números desde 0 hasta cierto valor. También puede usarse con dos valores, uno como límite inferior y el otro como límite superior, así:\n",
    "\n",
    "**Nota**:\n",
    "\n",
    "En Python 3 `range` genera un objeto de tipo `range` en lugar de una lista, por razones de eficiencia. Por ello hay que convertirlo a una lista para observar lo que contiene."
   ]
  },
  {
   "cell_type": "markdown",
   "metadata": {},
   "source": [
    "### Problema 2\n",
    "\n",
    "Construir un ciclo ``for`` que imprima todos los números pares de 1 a 100."
   ]
  },
  {
   "cell_type": "code",
   "execution_count": 47,
   "metadata": {},
   "outputs": [
    {
     "name": "stdout",
     "output_type": "stream",
     "text": [
      "2\n",
      "4\n",
      "6\n",
      "8\n",
      "10\n",
      "12\n",
      "14\n",
      "16\n",
      "18\n",
      "20\n",
      "22\n",
      "24\n",
      "26\n",
      "28\n",
      "30\n",
      "32\n",
      "34\n",
      "36\n",
      "38\n",
      "40\n",
      "42\n",
      "44\n",
      "46\n",
      "48\n",
      "50\n",
      "52\n",
      "54\n",
      "56\n",
      "58\n",
      "60\n",
      "62\n",
      "64\n",
      "66\n",
      "68\n",
      "70\n",
      "72\n",
      "74\n",
      "76\n",
      "78\n",
      "80\n",
      "82\n",
      "84\n",
      "86\n",
      "88\n",
      "90\n",
      "92\n",
      "94\n",
      "96\n",
      "98\n",
      "100\n"
     ]
    }
   ],
   "source": [
    "# Escribir la solución aquí\n",
    "for i in range(2,101,2):\n",
    "    print(i)"
   ]
  },
  {
   "cell_type": "markdown",
   "metadata": {},
   "source": [
    "## while\n",
    "\n",
    "Finalmente vamos a mirar la sintaxis del comando `while`, que si bien no es tan usado como los dos anteriores, es muy útil porque permite hacer un ciclo mientras se cumpla una condición. Por ejemplo, recorrer los indices de una lista, tupla o cadena menores a un número.\n",
    "\n",
    "Diferencias con el `for`: El for está ideado para recorrer elementos directamente, mientras que el `while` hace el recorrido mientras se cumpla una condición. \n",
    "\n",
    "Miremos un par de ejemplos:\n",
    "\n",
    "**(1)** En este primer ejemplo, imprimimos la lista de todos los elementos de una lista `li`, pero seleccionándolos de `li` por medio de su índice."
   ]
  },
  {
   "cell_type": "code",
   "execution_count": 98,
   "metadata": {},
   "outputs": [
    {
     "name": "stdout",
     "output_type": "stream",
     "text": [
      "1\n",
      "2\n",
      "3\n",
      "4\n",
      "5\n",
      "6\n",
      "7\n",
      "8\n",
      "9\n",
      "10\n",
      "Terminó\n"
     ]
    }
   ],
   "source": [
    "condicion = True\n",
    "contador = 0 \n",
    "while condicion:\n",
    "    contador = contador + 1\n",
    "    print(contador)\n",
    "    \n",
    "    if contador == 10: \n",
    "        print('Terminó')\n",
    "        condicion = False \n",
    "        \n",
    "    \n",
    "    "
   ]
  },
  {
   "cell_type": "code",
   "execution_count": 96,
   "metadata": {},
   "outputs": [
    {
     "name": "stdout",
     "output_type": "stream",
     "text": [
      "i es 0 y el elemento es 3\n",
      "i es 1 y el elemento es 6\n",
      "i es 2 y el elemento es 9\n",
      "i es 3 y el elemento es 11\n"
     ]
    }
   ],
   "source": [
    "li = [3, 6, 9, 11]\n",
    "i = 0 \n",
    "while i < 4:\n",
    "    print(f'i es {i} y el elemento es {li[i]}')\n",
    "    i += 1"
   ]
  },
  {
   "cell_type": "markdown",
   "metadata": {},
   "source": [
    "### Problema 3\n",
    "\n",
    "Definir una función `cuenta_atras(n)` que tome un número entero `n` e imprima todos los números desde `n` hasta `1` usando un ciclo `while`. Además, después de imprimir `1`, debe imprimir `Este es el fin!`."
   ]
  },
  {
   "cell_type": "code",
   "execution_count": 101,
   "metadata": {},
   "outputs": [],
   "source": [
    "# Escribir la solución aquí\n",
    "def cuenta_atras(n):\n",
    "    while n!=0:\n",
    "        print(n)\n",
    "        n-=1\n",
    "    print('Este es el fin!')    "
   ]
  },
  {
   "cell_type": "code",
   "execution_count": 102,
   "metadata": {},
   "outputs": [
    {
     "name": "stdout",
     "output_type": "stream",
     "text": [
      "10\n",
      "9\n",
      "8\n",
      "7\n",
      "6\n",
      "5\n",
      "4\n",
      "3\n",
      "2\n",
      "1\n",
      "Este es el fin!\n"
     ]
    }
   ],
   "source": [
    "cuenta_atras(10)"
   ]
  },
  {
   "cell_type": "markdown",
   "metadata": {},
   "source": [
    "### Problema 4\n",
    "Construya una función que reciba un número y retorne la palabra \"par\" o \"impar\" dependiendo del insumo. Llame a la función _parImpar_. Pruébela sobre los números 2,3,7,12. Pista: busque que hace __%__. "
   ]
  },
  {
   "cell_type": "code",
   "execution_count": 106,
   "metadata": {},
   "outputs": [],
   "source": [
    "def parImpar(number):\n",
    "    if (number % 2 == 0): # Si el residuo de un número dividido 2 es cero, significa ue es múltiplo de 2\n",
    "        return(\"par\")\n",
    "    else: \n",
    "        return(\"impar\")"
   ]
  },
  {
   "cell_type": "code",
   "execution_count": 109,
   "metadata": {},
   "outputs": [
    {
     "data": {
      "text/plain": [
       "'par'"
      ]
     },
     "execution_count": 109,
     "metadata": {},
     "output_type": "execute_result"
    }
   ],
   "source": [
    "parImpar(number=100)"
   ]
  },
  {
   "cell_type": "markdown",
   "metadata": {},
   "source": [
    "### Problema 5\n",
    "Construya una función que reciba un número y retorne la cantidad de divisores del mismo. En caso de ser un número primo, también debe retornar una cadena de caracteres que diga que es un número primo. Llame a la función divisores"
   ]
  },
  {
   "cell_type": "code",
   "execution_count": 123,
   "metadata": {},
   "outputs": [],
   "source": [
    "def divisores(n):\n",
    "    ### Lista para almacenar los divisores \n",
    "    listaDivisores = [1,n]\n",
    "    \n",
    "    ### --- Evaluar divisores --- ###\n",
    "    for i in range(2,n):\n",
    "        ### Si el residuo es cero es divisible \n",
    "        if(n%i==0):\n",
    "            listaDivisores += [i]\n",
    "    \n",
    "    #### Un número pirmo únicamente tiene \n",
    "    #### dos divisores positivos distintos: él mismo y el 1\n",
    "    if(len(listaDivisores)==2):\n",
    "        print('El número', n,' es primo.')\n",
    "    \n",
    "    \n",
    "    listaDivisores.sort()\n",
    "    return(listaDivisores)"
   ]
  },
  {
   "cell_type": "code",
   "execution_count": 121,
   "metadata": {},
   "outputs": [
    {
     "data": {
      "text/plain": [
       "[1, 2, 5, 10]"
      ]
     },
     "execution_count": 121,
     "metadata": {},
     "output_type": "execute_result"
    }
   ],
   "source": [
    "divisores(n=10)"
   ]
  },
  {
   "cell_type": "markdown",
   "metadata": {},
   "source": [
    "### Problema 6\n",
    "Construya una función que represente el lanzamiento de un dado de 6 caras. Use la funcion `numpy.random.randint`"
   ]
  },
  {
   "cell_type": "code",
   "execution_count": 127,
   "metadata": {},
   "outputs": [],
   "source": [
    "import numpy as np\n",
    "def lanzamiento_dado():\n",
    "    return(np.random.randint(low=1,high=7))"
   ]
  },
  {
   "cell_type": "code",
   "execution_count": 134,
   "metadata": {},
   "outputs": [
    {
     "data": {
      "text/plain": [
       "4"
      ]
     },
     "execution_count": 134,
     "metadata": {},
     "output_type": "execute_result"
    }
   ],
   "source": [
    "lanzamiento_dado()"
   ]
  },
  {
   "cell_type": "markdown",
   "metadata": {},
   "source": [
    "### Problema 7\n",
    "Escriba una función que construya el [coeficiente de variación](https://es.wikipedia.org/wiki/Coeficiente_de_variaci%C3%B3n) de un iterable dado."
   ]
  },
  {
   "cell_type": "code",
   "execution_count": 45,
   "metadata": {},
   "outputs": [],
   "source": [
    "def coef_variacion(iterable, porcentaje=True):\n",
    "    np_iter = np.array(iterable)\n",
    "    factor = 100 if porcentaje else 1\n",
    "    return (np_iter.std()/np_iter.mean())*factor"
   ]
  },
  {
   "cell_type": "code",
   "execution_count": 46,
   "metadata": {},
   "outputs": [
    {
     "data": {
      "text/plain": [
       "44.721359549995796"
      ]
     },
     "execution_count": 46,
     "metadata": {},
     "output_type": "execute_result"
    }
   ],
   "source": [
    "coef_variacion([10,20,30,40])"
   ]
  }
 ],
 "metadata": {
  "kernelspec": {
   "display_name": "Python 3 (ipykernel)",
   "language": "python",
   "name": "python3"
  },
  "language_info": {
   "codemirror_mode": {
    "name": "ipython",
    "version": 3
   },
   "file_extension": ".py",
   "mimetype": "text/x-python",
   "name": "python",
   "nbconvert_exporter": "python",
   "pygments_lexer": "ipython3",
   "version": "3.7.8"
  }
 },
 "nbformat": 4,
 "nbformat_minor": 4
}
